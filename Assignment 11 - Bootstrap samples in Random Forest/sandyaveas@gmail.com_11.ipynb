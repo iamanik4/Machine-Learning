{
 "cells": [
  {
   "cell_type": "code",
   "execution_count": 1,
   "metadata": {},
   "outputs": [],
   "source": [
    "import numpy as np\n",
    "from sklearn.datasets import load_boston\n",
    "\n",
    "import random\n",
    "from sklearn.tree import DecisionTreeRegressor as DTR\n",
    "\n",
    "from tqdm import tqdm"
   ]
  },
  {
   "cell_type": "code",
   "execution_count": 2,
   "metadata": {},
   "outputs": [],
   "source": [
    "boston = load_boston()\n",
    "x=boston.data #independent variables\n",
    "y=boston.target #target variable"
   ]
  },
  {
   "cell_type": "code",
   "execution_count": 3,
   "metadata": {},
   "outputs": [
    {
     "data": {
      "text/plain": [
       "(506, 13)"
      ]
     },
     "execution_count": 3,
     "metadata": {},
     "output_type": "execute_result"
    }
   ],
   "source": [
    "x.shape"
   ]
  },
  {
   "cell_type": "markdown",
   "metadata": {},
   "source": [
    "## Task 1"
   ]
  },
  {
   "cell_type": "markdown",
   "metadata": {},
   "source": [
    "### Step 1"
   ]
  },
  {
   "cell_type": "code",
   "execution_count": 4,
   "metadata": {},
   "outputs": [],
   "source": [
    "def get_row_sample_and_oob_indices():\n",
    "    '''This functions will get sample and oob indices'''    \n",
    "    \n",
    "    x_60 = random.sample(range(x.shape[0]), round(x.shape[0]*0.6))    \n",
    "    \n",
    "    x_40 =  random.sample(x_60, round(x.shape[0]*0.4))    \n",
    "    \n",
    "    sample_indices = x_60 + x_40    \n",
    "    \n",
    "    oob_indices = list(set(range(x.shape[0])) - set(sample_indices))\n",
    "    \n",
    "    return sample_indices, oob_indices"
   ]
  },
  {
   "cell_type": "markdown",
   "metadata": {},
   "source": [
    "### Step 2"
   ]
  },
  {
   "cell_type": "code",
   "execution_count": 5,
   "metadata": {},
   "outputs": [],
   "source": [
    "def training_model_using_random_forest(x):\n",
    "    '''This functions will train a model based on k-Decision Trees and predict y'''\n",
    "    \n",
    "    lst_samples = []\n",
    "    random_forest_model = []\n",
    "        \n",
    "    number_of_features = np.random.randint(3,10, 30)\n",
    "        \n",
    "    for idx, count in enumerate(number_of_features):\n",
    "        \n",
    "        \n",
    "        sample_indices, oob_indices = get_row_sample_and_oob_indices()\n",
    "        \n",
    "        #Getting random row samples\n",
    "        row_samples = x[sample_indices]\n",
    "        y_samples = y[sample_indices]\n",
    "        \n",
    "        #Getting feature indices\n",
    "        feature_indices = random.sample(range(2, 13), count)\n",
    "        \n",
    "        \n",
    "        #Getting row samples with different features and oob indices\n",
    "        lst_samples.append({\n",
    "            'sample'          : str(idx+1),\n",
    "            'x_sample'        : row_samples[:, feature_indices],\n",
    "            'y_sample'       : y_samples,\n",
    "            'sample_indices'  : sample_indices,\n",
    "            'oob_indices'     : oob_indices,\n",
    "            'feature_indices' : feature_indices\n",
    "        })\n",
    "   \n",
    "    \n",
    "    \n",
    "    #Train all 30 samples and get predictions\n",
    "    for sample in lst_samples:\n",
    "        \n",
    "        X= sample['x_sample']\n",
    "        Y = sample['y_sample']\n",
    "        \n",
    "        regressor = DTR()\n",
    "        regressor.fit(X, Y)\n",
    "        \n",
    "        random_forest_model.append({'sample': sample['sample'],\n",
    "                                    'regressor' : regressor,\n",
    "                                    'y_pred' : regressor.predict(x[:,sample['feature_indices']]),\n",
    "                                    'sample_indices' : sample['sample_indices'],\n",
    "                                    'oob_indices' : sample['oob_indices'],\n",
    "                                    'feature_indices' : sample['feature_indices']\n",
    "                                   })\n",
    "        \n",
    "    \n",
    "        \n",
    "    return random_forest_model"
   ]
  },
  {
   "cell_type": "code",
   "execution_count": 6,
   "metadata": {},
   "outputs": [],
   "source": [
    "def get_y_pred_from_trained_model(random_forest_model):\n",
    "    '''This function will get mean y_pred from all 30 samples'''\n",
    "    \n",
    "    y_pred = []\n",
    "        \n",
    "    #Getting y_pred by mean of 30 sample's y_pred\n",
    "    for i_row in range(x.shape[0]):\n",
    "        \n",
    "        y_pred_sample = 0\n",
    "        for model in random_forest_model:          \n",
    "            \n",
    "            \n",
    "            y_pred_sample += model['y_pred'][i_row]\n",
    "        \n",
    "        y_pred.append(round(y_pred_sample/30,1))\n",
    "        \n",
    "    return y_pred"
   ]
  },
  {
   "cell_type": "code",
   "execution_count": 7,
   "metadata": {},
   "outputs": [],
   "source": [
    "def calc_mean_square_error(y, y_pred):\n",
    "    \n",
    "    return np.mean([(y[i] - y_pred[i]) ** 2 for i in range(len(y))])        "
   ]
  },
  {
   "cell_type": "code",
   "execution_count": 8,
   "metadata": {},
   "outputs": [
    {
     "name": "stdout",
     "output_type": "stream",
     "text": [
      "--------Mean Squared Error--------\n",
      "2.437608695652174\n"
     ]
    }
   ],
   "source": [
    "random_forest_model = training_model_using_random_forest(x)\n",
    "\n",
    "y_pred = get_y_pred_from_trained_model(random_forest_model)\n",
    "\n",
    "mse = calc_mean_square_error(y, y_pred)\n",
    "print('--------Mean Squared Error--------')\n",
    "print(mse)"
   ]
  },
  {
   "cell_type": "markdown",
   "metadata": {},
   "source": [
    "### Step 3"
   ]
  },
  {
   "cell_type": "code",
   "execution_count": 9,
   "metadata": {},
   "outputs": [],
   "source": [
    "def get_oob_score(random_forest_model):\n",
    "    '''This function will get oob_score from the exist k-DecisionTrees'''\n",
    "    \n",
    "    y_pred = []\n",
    "        \n",
    "    \n",
    "    for i_row in range(x.shape[0]):\n",
    "        \n",
    "        y_pred_sample = 0\n",
    "        k_model = 0\n",
    "        for model in random_forest_model:          \n",
    "            \n",
    "            #Consider only those models in which i_row sample is not include\n",
    "            #which means i_row should in present in oob_indices            \n",
    "            if i_row in model['oob_indices']:\n",
    "                \n",
    "                y_pred_sample += model['y_pred'][i_row]                \n",
    "                k_model += 1\n",
    "        \n",
    "        y_pred.append(round(y_pred_sample/k_model,1))\n",
    "        \n",
    "    return y_pred"
   ]
  },
  {
   "cell_type": "code",
   "execution_count": 10,
   "metadata": {},
   "outputs": [
    {
     "name": "stdout",
     "output_type": "stream",
     "text": [
      "--------OOB Score--------\n",
      "14.327569169960475\n"
     ]
    }
   ],
   "source": [
    "oob_y_pred = get_oob_score(random_forest_model)\n",
    "\n",
    "oob_score = calc_mean_square_error(y, oob_y_pred)\n",
    "print('--------OOB Score--------')\n",
    "print(oob_score)"
   ]
  },
  {
   "cell_type": "markdown",
   "metadata": {},
   "source": [
    "## Task 2"
   ]
  },
  {
   "cell_type": "code",
   "execution_count": 11,
   "metadata": {},
   "outputs": [],
   "source": [
    "def get_mse_oob_score_for_CI(x, y):\n",
    "    '''This function will get MSE values and OOB Scores for 35 iterations'''\n",
    "    \n",
    "    mse_values = []\n",
    "    oob_scores = []\n",
    "    \n",
    "    for i in tqdm(range(35)):\n",
    "        \n",
    "        #Training data using Random Forest algorithm\n",
    "        random_forest_model = training_model_using_random_forest(x)\n",
    "        \n",
    "        #Getting y_pred from random forest\n",
    "        y_pred = get_y_pred_from_trained_model(random_forest_model)                \n",
    "        mse = calc_mean_square_error(y, y_pred)                \n",
    "        mse_values.append(mse)\n",
    "        \n",
    "        \n",
    "        #Getting OOB Score\n",
    "        oob_y_pred = get_oob_score(random_forest_model)                \n",
    "        oob_score = calc_mean_square_error(y, oob_y_pred)                \n",
    "        oob_scores.append(oob_score)\n",
    "    \n",
    "    return mse_values, oob_scores"
   ]
  },
  {
   "cell_type": "code",
   "execution_count": 12,
   "metadata": {},
   "outputs": [
    {
     "name": "stderr",
     "output_type": "stream",
     "text": [
      "100%|██████████████████████████████████████████████████████████████████████████████████| 35/35 [00:04<00:00,  8.18it/s]\n"
     ]
    }
   ],
   "source": [
    "mse_values, oob_scores = get_mse_oob_score_for_CI(x, y)"
   ]
  },
  {
   "cell_type": "code",
   "execution_count": 13,
   "metadata": {},
   "outputs": [],
   "source": [
    "def calculate_CI(values, y):\n",
    "        \n",
    "    _min = np.mean(values) - 2*(np.std(y)/35)        \n",
    "    _max = np.mean(values) + 2*(np.std(y)/35)\n",
    "    \n",
    "    return _min, _max"
   ]
  },
  {
   "cell_type": "code",
   "execution_count": 14,
   "metadata": {},
   "outputs": [
    {
     "name": "stdout",
     "output_type": "stream",
     "text": [
      "Confidence Interval for MSE with 95% is between range \n",
      "(2.1288550150298398, 3.1789134773473484)\n",
      "\n",
      "\n",
      "--------------------------------\n",
      "\n",
      "\n",
      "Confidence Interval for OOB Score with 95% is between range \n",
      "(14.690081440778005, 15.740139903095514)\n"
     ]
    }
   ],
   "source": [
    "print(f'Confidence Interval for MSE with 95% is between range \\n{calculate_CI(mse_values, y)}')\n",
    "\n",
    "print('\\n\\n--------------------------------\\n\\n')\n",
    "\n",
    "print(f'Confidence Interval for OOB Score with 95% is between range \\n{calculate_CI(oob_scores, y)}')"
   ]
  },
  {
   "cell_type": "markdown",
   "metadata": {},
   "source": [
    "## Task 3"
   ]
  },
  {
   "cell_type": "code",
   "execution_count": 15,
   "metadata": {},
   "outputs": [],
   "source": [
    "def get_qth_prediction(random_forest_model, xq):\n",
    "    '''This function will give the predict y for a given query'''\n",
    "    \n",
    "    y_pred = []       \n",
    "    \n",
    "    xq = np.array([xq])\n",
    "    \n",
    "    #Getting mean of prediction values of 30 samples for qth query\n",
    "    y_pred = round(np.mean([model['regressor'].predict(xq[:, model['feature_indices']]) for model in random_forest_model]),1)    \n",
    "        \n",
    "    return y_pred"
   ]
  },
  {
   "cell_type": "code",
   "execution_count": 16,
   "metadata": {},
   "outputs": [
    {
     "name": "stdout",
     "output_type": "stream",
     "text": [
      "--------yq Pred--------\n",
      "20.6\n"
     ]
    }
   ],
   "source": [
    "xq= [0.18,20.0,5.00,0.0,0.421,5.60,72.2,7.95,7.0,30.0,19.1,372.13,18.60]\n",
    "\n",
    "#Getting yq_pred\n",
    "yq_pred = get_qth_prediction(random_forest_model, xq)\n",
    "\n",
    "print('--------yq Pred--------')\n",
    "print(yq_pred)"
   ]
  },
  {
   "cell_type": "code",
   "execution_count": null,
   "metadata": {},
   "outputs": [],
   "source": []
  }
 ],
 "metadata": {
  "kernelspec": {
   "display_name": "Python 3",
   "language": "python",
   "name": "python3"
  },
  "language_info": {
   "codemirror_mode": {
    "name": "ipython",
    "version": 3
   },
   "file_extension": ".py",
   "mimetype": "text/x-python",
   "name": "python",
   "nbconvert_exporter": "python",
   "pygments_lexer": "ipython3",
   "version": "3.6.4"
  }
 },
 "nbformat": 4,
 "nbformat_minor": 2
}
