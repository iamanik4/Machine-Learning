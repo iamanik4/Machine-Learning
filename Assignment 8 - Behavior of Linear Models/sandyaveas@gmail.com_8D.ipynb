{
 "cells": [
  {
   "cell_type": "code",
   "execution_count": 1,
   "metadata": {},
   "outputs": [],
   "source": [
    "%matplotlib inline\n",
    "import pandas as pd\n",
    "import numpy as np\n",
    "from sklearn.linear_model import SGDClassifier\n",
    "from sklearn.model_selection import GridSearchCV\n",
    "import seaborn as sns\n",
    "import matplotlib.pyplot as plt\n",
    "\n",
    "import warnings\n",
    "warnings.filterwarnings(\"ignore\")"
   ]
  },
  {
   "cell_type": "code",
   "execution_count": 2,
   "metadata": {},
   "outputs": [
    {
     "data": {
      "text/html": [
       "<div>\n",
       "<style scoped>\n",
       "    .dataframe tbody tr th:only-of-type {\n",
       "        vertical-align: middle;\n",
       "    }\n",
       "\n",
       "    .dataframe tbody tr th {\n",
       "        vertical-align: top;\n",
       "    }\n",
       "\n",
       "    .dataframe thead th {\n",
       "        text-align: right;\n",
       "    }\n",
       "</style>\n",
       "<table border=\"1\" class=\"dataframe\">\n",
       "  <thead>\n",
       "    <tr style=\"text-align: right;\">\n",
       "      <th></th>\n",
       "      <th>x</th>\n",
       "      <th>y</th>\n",
       "      <th>z</th>\n",
       "      <th>x*x</th>\n",
       "      <th>2*y</th>\n",
       "      <th>2*z+3*x*x</th>\n",
       "      <th>w</th>\n",
       "      <th>target</th>\n",
       "    </tr>\n",
       "  </thead>\n",
       "  <tbody>\n",
       "    <tr>\n",
       "      <th>0</th>\n",
       "      <td>-0.581066</td>\n",
       "      <td>0.841837</td>\n",
       "      <td>-1.012978</td>\n",
       "      <td>-0.604025</td>\n",
       "      <td>0.841837</td>\n",
       "      <td>-0.665927</td>\n",
       "      <td>-0.536277</td>\n",
       "      <td>0</td>\n",
       "    </tr>\n",
       "    <tr>\n",
       "      <th>1</th>\n",
       "      <td>-0.894309</td>\n",
       "      <td>-0.207835</td>\n",
       "      <td>-1.012978</td>\n",
       "      <td>-0.883052</td>\n",
       "      <td>-0.207835</td>\n",
       "      <td>-0.917054</td>\n",
       "      <td>-0.522364</td>\n",
       "      <td>0</td>\n",
       "    </tr>\n",
       "    <tr>\n",
       "      <th>2</th>\n",
       "      <td>-1.207552</td>\n",
       "      <td>0.212034</td>\n",
       "      <td>-1.082312</td>\n",
       "      <td>-1.150918</td>\n",
       "      <td>0.212034</td>\n",
       "      <td>-1.166507</td>\n",
       "      <td>0.205738</td>\n",
       "      <td>0</td>\n",
       "    </tr>\n",
       "    <tr>\n",
       "      <th>3</th>\n",
       "      <td>-1.364174</td>\n",
       "      <td>0.002099</td>\n",
       "      <td>-0.943643</td>\n",
       "      <td>-1.280666</td>\n",
       "      <td>0.002099</td>\n",
       "      <td>-1.266540</td>\n",
       "      <td>-0.665720</td>\n",
       "      <td>0</td>\n",
       "    </tr>\n",
       "    <tr>\n",
       "      <th>4</th>\n",
       "      <td>-0.737687</td>\n",
       "      <td>1.051772</td>\n",
       "      <td>-1.012978</td>\n",
       "      <td>-0.744934</td>\n",
       "      <td>1.051772</td>\n",
       "      <td>-0.792746</td>\n",
       "      <td>-0.735054</td>\n",
       "      <td>0</td>\n",
       "    </tr>\n",
       "  </tbody>\n",
       "</table>\n",
       "</div>"
      ],
      "text/plain": [
       "          x         y         z       x*x       2*y  2*z+3*x*x         w  \\\n",
       "0 -0.581066  0.841837 -1.012978 -0.604025  0.841837  -0.665927 -0.536277   \n",
       "1 -0.894309 -0.207835 -1.012978 -0.883052 -0.207835  -0.917054 -0.522364   \n",
       "2 -1.207552  0.212034 -1.082312 -1.150918  0.212034  -1.166507  0.205738   \n",
       "3 -1.364174  0.002099 -0.943643 -1.280666  0.002099  -1.266540 -0.665720   \n",
       "4 -0.737687  1.051772 -1.012978 -0.744934  1.051772  -0.792746 -0.735054   \n",
       "\n",
       "   target  \n",
       "0       0  \n",
       "1       0  \n",
       "2       0  \n",
       "3       0  \n",
       "4       0  "
      ]
     },
     "execution_count": 2,
     "metadata": {},
     "output_type": "execute_result"
    }
   ],
   "source": [
    "data = pd.read_csv('task_d.csv')\n",
    "data.head()"
   ]
  },
  {
   "cell_type": "code",
   "execution_count": 3,
   "metadata": {},
   "outputs": [],
   "source": [
    "X = data.drop(['target'], axis=1).values\n",
    "Y = data['target'].values"
   ]
  },
  {
   "cell_type": "markdown",
   "metadata": {},
   "source": [
    "### Task 1.1"
   ]
  },
  {
   "cell_type": "code",
   "execution_count": 4,
   "metadata": {},
   "outputs": [
    {
     "data": {
      "text/plain": [
       "x            0.728290\n",
       "y           -0.690684\n",
       "z            0.969990\n",
       "x*x          0.719570\n",
       "2*y         -0.690684\n",
       "2*z+3*x*x    0.764729\n",
       "w            0.641750\n",
       "target       1.000000\n",
       "Name: target, dtype: float64"
      ]
     },
     "execution_count": 4,
     "metadata": {},
     "output_type": "execute_result"
    }
   ],
   "source": [
    "data.corr().target"
   ]
  },
  {
   "cell_type": "code",
   "execution_count": 5,
   "metadata": {},
   "outputs": [],
   "source": [
    "def get_feature_correlation(feature_names, feature_index):    \n",
    "    \n",
    "    for i, j in enumerate(feature_index):\n",
    "\n",
    "            if i == len(feature_index) - 1:\n",
    "                print('var(' + feature_names[j] + ')')\n",
    "            else:\n",
    "                print('var(' + feature_names[j] + ')', '>>', end =\" \")\n"
   ]
  },
  {
   "cell_type": "code",
   "execution_count": 6,
   "metadata": {},
   "outputs": [
    {
     "name": "stdout",
     "output_type": "stream",
     "text": [
      "var(z) >> var(2*z+3*x*x) >> var(x) >> var(x*x) >> var(w) >> var(2*y) >> var(y)\n"
     ]
    }
   ],
   "source": [
    "corr = data.corr()    \n",
    "feature_names = np.array(corr.columns)\n",
    "feature_index = corr.target.values[:-1].argsort()[::-1]\n",
    "\n",
    "\n",
    "get_feature_correlation(feature_names, feature_index)"
   ]
  },
  {
   "cell_type": "markdown",
   "metadata": {},
   "source": [
    "<pre><b><font color='red'>Observation:</font>\n",
    "<font color='green'>Above we can see the correlation between all the features with respect to target, wherein we can see that the variance\n",
    "of feature 'z' is more related with target whereas variance of feature 'y' is least related.</font></b></pre>"
   ]
  },
  {
   "cell_type": "code",
   "execution_count": 7,
   "metadata": {},
   "outputs": [
    {
     "data": {
      "text/plain": [
       "<matplotlib.axes._subplots.AxesSubplot at 0x2caa9e04e48>"
      ]
     },
     "execution_count": 7,
     "metadata": {},
     "output_type": "execute_result"
    },
    {
     "data": {
      "image/png": "[encoded data removed]",
      "text/plain": [
       "<matplotlib.figure.Figure at 0x2caa9d5bcf8>"
      ]
     },
     "metadata": {},
     "output_type": "display_data"
    }
   ],
   "source": [
    "sns.heatmap(corr, annot=True, cmap='coolwarm')"
   ]
  },
  {
   "cell_type": "markdown",
   "metadata": {},
   "source": [
    "<pre><b><font color='red'>Observation:</font>\n",
    "<font color='green'>Here in above coolwarm heatmap of correlation we can observe that the feature 'z' with respective to target \n",
    "is having 0.97 value which has similar red colour near 1(highest) and feature 'y' with respective to target \n",
    "is having -0.67 value which has blue colour which means it's least related with the target.</font></b></pre>"
   ]
  },
  {
   "cell_type": "markdown",
   "metadata": {},
   "source": [
    "### Task 1.2"
   ]
  },
  {
   "cell_type": "code",
   "execution_count": 8,
   "metadata": {},
   "outputs": [],
   "source": [
    "from sklearn.metrics import accuracy_score\n",
    "from sklearn.model_selection import train_test_split\n",
    "\n",
    "\n",
    "def apply_LR_SVM(loss, X, Y):\n",
    "    \n",
    "    \n",
    "    print('\\n------------Step 2------------')\n",
    "    clf = SGDClassifier(loss = loss)        \n",
    "        \n",
    "    param = {'alpha': np.logspace(-3, 3, 6)}\n",
    "    n_folds = 5\n",
    "\n",
    "    #Finding best alpha using GridSearchCV method\n",
    "    grid_search = GridSearchCV(estimator = clf, param_grid= param, cv=n_folds)\n",
    "    grid_search.fit(X, Y)\n",
    "    \n",
    "    #Finding best alpha\n",
    "    best_alpha = grid_search.best_params_['alpha']    \n",
    "    print(\"\\n Best hyperparameter alpha:\", best_alpha)    \n",
    "            \n",
    "    #Finding best model\n",
    "    best_model = SGDClassifier(loss='log', alpha= best_alpha)\n",
    "    \n",
    "    \n",
    "    \n",
    "    print('\\n\\n------------Step 3------------')\n",
    "    #Splitting data into train and test with (3:1) ratio\n",
    "    X_train, X_test, Y_train, Y_test = train_test_split(X, Y, test_size=0.25, random_state=15)\n",
    "\n",
    "    #Train the best model with original data\n",
    "    best_model.fit(X_train, Y_train)\n",
    "\n",
    "    Y_pred = best_model.predict(X_test)\n",
    "    \n",
    "    #Finding accuracy\n",
    "    best_model_accuracy = accuracy_score(Y_test, Y_pred)\n",
    "    print('\\n Best Accuracy with original data:', best_model_accuracy)        \n",
    "    \n",
    "    #Finding weights\n",
    "    W = best_model.coef_\n",
    "    print('\\n Weights of original data:', W)\n",
    "    \n",
    "    \n",
    "    print('\\n\\n------------Step 4------------')\n",
    "    #Adding noise to modify original data\n",
    "    X_dash = X + 0.01\n",
    "\n",
    "    #Splitting data into train and test with (3:1) ratio after adding noise\n",
    "    X_train, X_test, Y_train, Y_test = train_test_split(X_dash, Y, test_size=0.25, random_state=15)\n",
    "\n",
    "    #Train the best model with noisy data\n",
    "    best_model.fit(X_train, Y_train)\n",
    "    \n",
    "    Y_pred = best_model.predict(X_test)\n",
    "\n",
    "    #Finding accuracy\n",
    "    best_model_accuracy_edited = accuracy_score(Y_test, Y_pred)\n",
    "    print('\\n Best Accuracy with noisy data:', best_model_accuracy_edited)\n",
    "    \n",
    "    #Finding weights\n",
    "    W_dash = best_model.coef_\n",
    "    print('\\n Weights of noisy data:', W_dash)\n",
    "    \n",
    "    \n",
    "    \n",
    "    print('\\n\\n------------Step 5------------')\n",
    "    #Accuracy difference\n",
    "    print('\\n Difference between Best Model Accuracy and Edited Accuracy:', best_model_accuracy - best_model_accuracy_edited)\n",
    "    \n",
    "\n",
    "    #Absolute weight difference\n",
    "    abs_change_weight = np.abs(W[0] - W_dash[0])\n",
    "    print('\\n Absolute change between each value of W and W\\':', abs_change_weight)\n",
    "\n",
    "    #Getting top 4 features from absolute weight\n",
    "    feature_indx = np.argsort(abs_change_weight)[::-1][:4]\n",
    "\n",
    "    feature_names = np.array(data.drop(['target'], axis = 1).columns.values)\n",
    "\n",
    "    #Printing the features importance\n",
    "    print('\\n Top 4 features from absolute weight:', feature_names[feature_indx])    "
   ]
  },
  {
   "cell_type": "markdown",
   "metadata": {},
   "source": [
    "### Applying Logistic Regression"
   ]
  },
  {
   "cell_type": "code",
   "execution_count": 9,
   "metadata": {},
   "outputs": [
    {
     "name": "stdout",
     "output_type": "stream",
     "text": [
      "\n",
      "------------Step 2------------\n",
      "\n",
      " Best hyperparameter alpha: 0.001\n",
      "\n",
      "\n",
      "------------Step 3------------\n",
      "\n",
      " Best Accuracy with original data: 1.0\n",
      "\n",
      " Weights of original data: [[ 2.84456326 -2.99251503  5.10601401  2.42874127 -2.99251503  2.80234978\n",
      "   1.32415964]]\n",
      "\n",
      "\n",
      "------------Step 4------------\n",
      "\n",
      " Best Accuracy with noisy data: 1.0\n",
      "\n",
      " Weights of noisy data: [[ 1.61383582 -1.3130531   2.72963875  1.46215216 -1.3130531   1.64545643\n",
      "   1.03653034]]\n",
      "\n",
      "\n",
      "------------Step 5------------\n",
      "\n",
      " Difference between Best Model Accuracy and Edited Accuracy: 0.0\n",
      "\n",
      " Absolute change between each value of W and W': [1.23072744 1.67946193 2.37637526 0.96658911 1.67946193 1.15689335\n",
      " 0.2876293 ]\n",
      "\n",
      " Top 4 features from absolute weight: ['z' '2*y' 'y' 'x']\n"
     ]
    }
   ],
   "source": [
    "apply_LR_SVM('log', X, Y)"
   ]
  },
  {
   "cell_type": "markdown",
   "metadata": {},
   "source": [
    "### Applying Linear SVM"
   ]
  },
  {
   "cell_type": "code",
   "execution_count": 10,
   "metadata": {},
   "outputs": [
    {
     "name": "stdout",
     "output_type": "stream",
     "text": [
      "\n",
      "------------Step 2------------\n",
      "\n",
      " Best hyperparameter alpha: 0.001\n",
      "\n",
      "\n",
      "------------Step 3------------\n",
      "\n",
      " Best Accuracy with original data: 1.0\n",
      "\n",
      " Weights of original data: [[ 3.36344061 -3.98161631  7.2653216   2.84305694 -3.98161631  3.4359356\n",
      "  -1.64835058]]\n",
      "\n",
      "\n",
      "------------Step 4------------\n",
      "\n",
      " Best Accuracy with noisy data: 1.0\n",
      "\n",
      " Weights of noisy data: [[ 2.36642726 -2.07432339  3.03946931  2.01748158 -2.07432339  2.18255759\n",
      "   0.76927205]]\n",
      "\n",
      "\n",
      "------------Step 5------------\n",
      "\n",
      " Difference between Best Model Accuracy and Edited Accuracy: 0.0\n",
      "\n",
      " Absolute change between each value of W and W': [0.99701335 1.90729292 4.2258523  0.82557535 1.90729292 1.25337801\n",
      " 2.41762262]\n",
      "\n",
      " Top 4 features from absolute weight: ['z' 'w' '2*y' 'y']\n"
     ]
    }
   ],
   "source": [
    "apply_LR_SVM('hinge', X, Y)"
   ]
  },
  {
   "cell_type": "markdown",
   "metadata": {},
   "source": [
    "<pre><b><font color='red'>Observation:</font>\n",
    "<font color='green'>\n",
    "As per my observation after applying Logistic regression and Linear SVM, both give the same accuracy \n",
    "but with same hyperparameter alpha(0.001 and 0.001 respectively). \n",
    "\n",
    "The difference in accuracy before noise and after noise are same in both LR and SVM\n",
    "\n",
    "In LR there more differences in weights vector of original data and noisy data whereas in SVM \n",
    "as compared to LR there is less difference.\n",
    "\n",
    "Also in top 4 features, all features are same only there importance are changed in both LR and SVM.</font></b></pre>"
   ]
  },
  {
   "cell_type": "code",
   "execution_count": null,
   "metadata": {},
   "outputs": [],
   "source": []
  }
 ],
 "metadata": {
  "kernelspec": {
   "display_name": "Python 3",
   "language": "python",
   "name": "python3"
  },
  "language_info": {
   "codemirror_mode": {
    "name": "ipython",
    "version": 3
   },
   "file_extension": ".py",
   "mimetype": "text/x-python",
   "name": "python",
   "nbconvert_exporter": "python",
   "pygments_lexer": "ipython3",
   "version": "3.6.4"
  }
 },
 "nbformat": 4,
 "nbformat_minor": 2
}
