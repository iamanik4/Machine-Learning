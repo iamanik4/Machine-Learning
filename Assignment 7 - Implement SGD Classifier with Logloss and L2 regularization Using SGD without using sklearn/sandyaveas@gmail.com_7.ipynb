{
 "cells": [
  {
   "cell_type": "code",
   "execution_count": 1,
   "metadata": {
    "colab": {},
    "colab_type": "code",
    "id": "I2S-uFqwSvmg"
   },
   "outputs": [],
   "source": [
    "import numpy as np\n",
    "import pandas as pd\n",
    "from sklearn.datasets import make_classification\n",
    "from sklearn.model_selection import train_test_split\n",
    "from sklearn.metrics import log_loss\n",
    "import math\n",
    "import matplotlib.pyplot as plt\n",
    "\n",
    "import warnings\n",
    "warnings.filterwarnings(\"ignore\")"
   ]
  },
  {
   "cell_type": "code",
   "execution_count": 2,
   "metadata": {
    "colab": {},
    "colab_type": "code",
    "id": "FUxLkBjISvmr"
   },
   "outputs": [],
   "source": [
    "X, y = make_classification(n_samples=50000, n_features=15, n_informative=10, n_redundant=5,\n",
    "                           n_classes=2, weights=[0.7], class_sep=0.7, random_state=15)\n",
    "\n",
    "\n",
    "X_train, X_test, y_train, y_test = train_test_split(X, y, test_size=0.25, random_state=15)"
   ]
  },
  {
   "cell_type": "code",
   "execution_count": 3,
   "metadata": {
    "colab": {},
    "colab_type": "code",
    "id": "B6Y5kVscSvn5"
   },
   "outputs": [],
   "source": [
    "class EpochLoss:\n",
    "  def __init__(self, epoch, loss, weight, intercept):\n",
    "    self.epoch = epoch\n",
    "    self.loss = loss\n",
    "    self.weight = weight\n",
    "    self.intercept = intercept\n",
    "    \n",
    "\n",
    "\n",
    "class SGDLogisticRegression:           \n",
    "\n",
    "\n",
    "    def sigmoid(self, x, w, b):\n",
    "        \n",
    "        z = np.dot(x, w.T) + b\n",
    "        sig = 1 / (1 + np.exp(-z))\n",
    "        \n",
    "        return sig\n",
    "        \n",
    "        \n",
    "    \n",
    "    def fit(self, X_train, X_test, y_train, y_test, eta0, alpha, num_iteration):\n",
    "        \n",
    "        N_train = len(X_train)\n",
    "        N_test = len(X_test)\n",
    "        lst_train = []\n",
    "        lst_test = []\n",
    "        \n",
    "        #Initial w and b\n",
    "        w = np.zeros_like(X[0])\n",
    "        b = 0\n",
    "\n",
    "        for epoch in range(1, num_iteration):\n",
    "            \n",
    "            #----------CALCULATING LOSS FOR TRAIN-------------#\n",
    "            lst_y_pred_train = []\n",
    "            lst_y_pred_test = []\n",
    "            for i in range(N_train):\n",
    "                \n",
    "                #calculating sigmoid of z\n",
    "                '''y_pred_train = self.sigmoid(X_train[i], w, b)                \n",
    "                lst_y_pred_train.append(y_pred_train)\n",
    "                \n",
    "                calculating sigmoid of z\n",
    "                y_pred_test = self.sigmoid(X_test[i], w, b)\n",
    "                lst_y_pred_test.append(y_pred_test)'''\n",
    "                \n",
    "                \n",
    "                y_pred_train = self.sigmoid(X_train[i], w, b)\n",
    "                \n",
    "                #subtracting y_pred_train from y_train to get error\n",
    "                error = y_train[i] - y_pred_train\n",
    "\n",
    "                #Updating weights and intercept\n",
    "                w = (1 - (alpha * eta0)/N_train) * w + alpha * X_train[i] * error\n",
    "                b = (b + alpha * error)\n",
    "\n",
    "            #Calculating log loss for Train\n",
    "            lst_y_pred_train =  np.array([self.sigmoid(X_train[i], w, b) for i in range(N_train)])\n",
    "            avg_log_loss_train = log_loss(y_train, lst_y_pred_train)\n",
    "            \n",
    "            #Calculating log loss for Test\n",
    "            lst_y_pred_test = np.array([self.sigmoid(X_test[i], w, b) for i in range(N_test)])\n",
    "            avg_log_loss_test = log_loss(y_test, lst_y_pred_test)\n",
    "\n",
    "            \n",
    "            \n",
    "            #Checking if previous epoch for train data is having the same value then breaking the epoch loop\n",
    "            round_upto = 4\n",
    "            if len(lst_train) > 0:\n",
    "\n",
    "              found = False\n",
    "              for loss in lst_train:\n",
    "                if loss.loss == round(avg_log_loss_train, round_upto):\n",
    "                  found = True\n",
    "                  break\n",
    "              \n",
    "              if found == False:\n",
    "                lst_train.append(EpochLoss(epoch, round(avg_log_loss_train, round_upto), w, b))\n",
    "                lst_test.append(EpochLoss(epoch, round(avg_log_loss_test, round_upto), w, b))\n",
    "              else:\n",
    "                break\n",
    "\n",
    "            else:\n",
    "                lst_train.append(EpochLoss(epoch, round(avg_log_loss_train, round_upto), w, b))\n",
    "                lst_test.append(EpochLoss(epoch, round(avg_log_loss_test, round_upto), w, b))\n",
    "            \n",
    "            \n",
    "\n",
    "            print('Epoch=%d, Bias=%.3f, Avg. Loss=%.4f' % (epoch, b, avg_log_loss_train))\n",
    "        \n",
    "        self.coef = w \n",
    "        self.intercept = b\n",
    "        self.lstEpochLoss_train = lst_train\n",
    "        self.lstEpochLoss_test = lst_test\n",
    "\n",
    "        return self\n",
    "\n",
    "    def pred(self, w, b, X):\n",
    "      \n",
    "      N = len(X)\n",
    "      predict = []\n",
    "      for i in range(N):\n",
    "        if self.sigmoid(w, X[i], b) >= 0.5:\n",
    "          predict.append(1)\n",
    "        else:\n",
    "          predict.append(0)\n",
    "          \n",
    "      return np.array(predict)"
   ]
  },
  {
   "cell_type": "code",
   "execution_count": 4,
   "metadata": {},
   "outputs": [
    {
     "name": "stdout",
     "output_type": "stream",
     "text": [
      "Epoch=1, Bias=-0.315, Avg. Loss=0.4040\n",
      "Epoch=2, Bias=-0.472, Avg. Loss=0.3884\n",
      "Epoch=3, Bias=-0.581, Avg. Loss=0.3831\n",
      "Epoch=4, Bias=-0.660, Avg. Loss=0.3808\n",
      "Epoch=5, Bias=-0.718, Avg. Loss=0.3796\n",
      "Epoch=6, Bias=-0.762, Avg. Loss=0.3790\n",
      "Epoch=7, Bias=-0.794, Avg. Loss=0.3786\n",
      "Epoch=8, Bias=-0.819, Avg. Loss=0.3785\n",
      "Epoch=9, Bias=-0.837, Avg. Loss=0.3784\n",
      "Epoch=10, Bias=-0.851, Avg. Loss=0.3783\n"
     ]
    }
   ],
   "source": [
    "eta0  = 0.0001 #lambda\n",
    "alpha = 0.0001 #learning rate\n",
    "num_iterations = 20\n",
    "\n",
    "sgd_logistic_reg = SGDLogisticRegression()\n",
    "model = sgd_logistic_reg.fit(X_train, X_test, y_train, y_test, eta0, alpha, num_iterations)"
   ]
  },
  {
   "cell_type": "code",
   "execution_count": 5,
   "metadata": {},
   "outputs": [
    {
     "name": "stdout",
     "output_type": "stream",
     "text": [
      "\n",
      "--- Weight ---\n",
      "[-0.42483228  0.19148808 -0.1465521   0.33813581 -0.21434406  0.56645689\n",
      " -0.44530973 -0.09124939  0.21893754  0.17080465  0.19611785  0.00156244\n",
      " -0.0787098   0.33888235  0.0223552 ]\n",
      "\n",
      "--- Intercept ---\n",
      "-0.8608553931749093\n"
     ]
    },
    {
     "data": {
      "image/png": "[encoded data removed]",
      "text/plain": [
       "<matplotlib.figure.Figure at 0x272e96623c8>"
      ]
     },
     "metadata": {},
     "output_type": "display_data"
    }
   ],
   "source": [
    "print('\\n--- Weight ---')\n",
    "print(model.coef)\n",
    "\n",
    "print('\\n--- Intercept ---')\n",
    "print(model.intercept)\n",
    "\n",
    "#Train Loss and epoch\n",
    "loss_train = [o.loss for o in model.lstEpochLoss_train]\n",
    "epoch_train = [o.epoch for o in model.lstEpochLoss_train]\n",
    "\n",
    "#Test Loss and epoch\n",
    "loss_test = [o.loss for o in model.lstEpochLoss_test]\n",
    "epoch_test = [o.epoch for o in model.lstEpochLoss_test]\n",
    "\n",
    "\n",
    "#Plotting curve\n",
    "plt.plot(epoch_train, loss_train, label='Train Loss curve')\n",
    "plt.plot(epoch_test, loss_test, label='Test Loss curve')\n",
    "\n",
    "#Adding legends, label, title and grid to the plot\n",
    "plt.legend()\n",
    "plt.xlabel(\"Epoch\")\n",
    "plt.ylabel('Loss')\n",
    "plt.title('Train and Test loss against each epoch')\n",
    "plt.grid()\n",
    "\n",
    "plt.show()"
   ]
  },
  {
   "cell_type": "markdown",
   "metadata": {},
   "source": [
    "### Implementing SGDClassifier from sklearn"
   ]
  },
  {
   "cell_type": "code",
   "execution_count": 6,
   "metadata": {},
   "outputs": [
    {
     "name": "stdout",
     "output_type": "stream",
     "text": [
      "-- Epoch 1\n",
      "Norm: 0.76, NNZs: 15, Bias: -0.314605, T: 37500, Avg. loss: 0.455801\n",
      "Total training time: 0.01 seconds.\n",
      "-- Epoch 2\n",
      "Norm: 0.92, NNZs: 15, Bias: -0.469578, T: 75000, Avg. loss: 0.394737\n",
      "Total training time: 0.01 seconds.\n",
      "-- Epoch 3\n",
      "Norm: 0.98, NNZs: 15, Bias: -0.580452, T: 112500, Avg. loss: 0.385561\n",
      "Total training time: 0.02 seconds.\n",
      "-- Epoch 4\n",
      "Norm: 1.02, NNZs: 15, Bias: -0.660824, T: 150000, Avg. loss: 0.382161\n",
      "Total training time: 0.02 seconds.\n",
      "-- Epoch 5\n",
      "Norm: 1.04, NNZs: 15, Bias: -0.717218, T: 187500, Avg. loss: 0.380474\n",
      "Total training time: 0.04 seconds.\n",
      "-- Epoch 6\n",
      "Norm: 1.06, NNZs: 15, Bias: -0.761816, T: 225000, Avg. loss: 0.379481\n",
      "Total training time: 0.04 seconds.\n",
      "Convergence after 6 epochs took 0.04 seconds\n"
     ]
    },
    {
     "data": {
      "text/plain": [
       "SGDClassifier(alpha=0.0001, average=False, class_weight=None, epsilon=0.1,\n",
       "       eta0=0.0001, fit_intercept=True, l1_ratio=0.15,\n",
       "       learning_rate='constant', loss='log', max_iter=None, n_iter=None,\n",
       "       n_jobs=1, penalty='l2', power_t=0.5, random_state=15, shuffle=True,\n",
       "       tol=0.001, verbose=2, warm_start=False)"
      ]
     },
     "execution_count": 6,
     "metadata": {},
     "output_type": "execute_result"
    }
   ],
   "source": [
    "from sklearn import linear_model\n",
    "\n",
    "clf = linear_model.SGDClassifier(eta0=0.0001, alpha=0.0001, loss='log', random_state=15, penalty='l2', tol=1e-3, verbose=2, learning_rate='constant')\n",
    "clf.fit(X=X_train, y=y_train)"
   ]
  },
  {
   "cell_type": "markdown",
   "metadata": {},
   "source": [
    "### Comparing weight vector and intercept of sklearn SGDClassifier and sgd_logistic_reg"
   ]
  },
  {
   "cell_type": "code",
   "execution_count": 7,
   "metadata": {},
   "outputs": [
    {
     "data": {
      "text/plain": [
       "(array([[-0.01305797,  0.00732026, -0.00760137,  0.0024107 , -0.03011169,\n",
       "          0.01702169,  0.00682719, -0.00267474,  0.00357093, -0.00271292,\n",
       "          0.01130958, -0.00287218, -0.0083798 ,  0.00205055,  0.00231391]]),\n",
       " array([-0.09903979]))"
      ]
     },
     "execution_count": 7,
     "metadata": {},
     "output_type": "execute_result"
    }
   ],
   "source": [
    "model.coef - clf.coef_, model.intercept - clf.intercept_"
   ]
  },
  {
   "cell_type": "markdown",
   "metadata": {},
   "source": [
    "### Getting acurracy from custom classifier"
   ]
  },
  {
   "cell_type": "code",
   "execution_count": 8,
   "metadata": {},
   "outputs": [
    {
     "name": "stdout",
     "output_type": "stream",
     "text": [
      "\n",
      "--- Accuracy on X_train ---\n",
      "0.9547466666666666\n",
      "\n",
      "--- Accuracy on X_test ---\n",
      "0.95224\n"
     ]
    }
   ],
   "source": [
    "print('\\n--- Accuracy on X_train ---')\n",
    "y_hat_train = sgd_logistic_reg.pred(model.coef, model.intercept, X_train)\n",
    "print(1- np.sum(y_train - y_hat_train) / len(X_train))\n",
    "\n",
    "print('\\n--- Accuracy on X_test ---')\n",
    "y_hat_test = sgd_logistic_reg.pred(model.coef, model.intercept, X_test)\n",
    "print(1-np.sum(y_test  - y_hat_test)/len(X_test))"
   ]
  },
  {
   "cell_type": "code",
   "execution_count": null,
   "metadata": {},
   "outputs": [],
   "source": []
  },
  {
   "cell_type": "code",
   "execution_count": null,
   "metadata": {},
   "outputs": [],
   "source": []
  }
 ],
 "metadata": {
  "colab": {
   "collapsed_sections": [],
   "name": "Logistic Regression using SGD.ipynb",
   "provenance": []
  },
  "kernelspec": {
   "display_name": "Python 3",
   "language": "python",
   "name": "python3"
  },
  "language_info": {
   "codemirror_mode": {
    "name": "ipython",
    "version": 3
   },
   "file_extension": ".py",
   "mimetype": "text/x-python",
   "name": "python",
   "nbconvert_exporter": "python",
   "pygments_lexer": "ipython3",
   "version": "3.6.4"
  }
 },
 "nbformat": 4,
 "nbformat_minor": 1
}
