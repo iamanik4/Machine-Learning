{
 "cells": [
  {
   "cell_type": "markdown",
   "metadata": {},
   "source": [
    "## Q1: Given two matrices please print the product of those two matrices"
   ]
  },
  {
   "cell_type": "code",
   "execution_count": 1,
   "metadata": {},
   "outputs": [
    {
     "name": "stdout",
     "output_type": "stream",
     "text": [
      "Ex : 1\n",
      "[[11, 14, 17, 20, 23], [23, 30, 37, 44, 51]]\n",
      "-------------------\n",
      "Ex : 2\n",
      "A and B is not multplicable\n"
     ]
    }
   ],
   "source": [
    "def multiply_A_and_B(A, B):\n",
    "    \n",
    "    if len(A[0]) == len(B):\n",
    "        \n",
    "        res = []\n",
    "        \n",
    "        for i in range(len(A)):            \n",
    "            row = []\n",
    "            \n",
    "            for j in range(len(B[0])):                \n",
    "                col = 0              \n",
    "                                \n",
    "                for k in range(len(A)):\n",
    "                    col += A[i][k] * B[k][j]\n",
    "                \n",
    "                row.append(col)\n",
    "                \n",
    "                    \n",
    "            res.append(row)\n",
    "        \n",
    "        return res\n",
    "                    \n",
    "    else:\n",
    "        return 'A and B is not multplicable'\n",
    "\n",
    "\n",
    "def matrix_mul(A, B):\n",
    "    # write your code\n",
    "    return(multiply_A_and_B(A, B))\n",
    "\n",
    "\n",
    "print('Ex : 1')\n",
    "\n",
    "A = [[1, 2],\n",
    "     [3, 4]]\n",
    "B = [[1, 2, 3, 4, 5],\n",
    "     [5, 6, 7, 8, 9]]\n",
    "\n",
    "\n",
    "print(matrix_mul(A, B))\n",
    "\n",
    "print('-------------------')\n",
    "\n",
    "print('Ex : 2')\n",
    "A = [[1, 2],\n",
    "     [3, 4]]\n",
    "B = [[1, 4],\n",
    "     [5, 6],\n",
    "     [7, 8],\n",
    "     [9, 6]]\n",
    "\n",
    "print(matrix_mul(A, B))"
   ]
  },
  {
   "cell_type": "markdown",
   "metadata": {},
   "source": [
    "# Q2: Select a number randomly with probability proportional to its magnitude from the given array of n elements"
   ]
  },
  {
   "cell_type": "code",
   "execution_count": 2,
   "metadata": {},
   "outputs": [
    {
     "name": "stdout",
     "output_type": "stream",
     "text": [
      "[100, 45, 45, 79, 79, 45, 28, 79, 6, 45, 79, 79, 28, 100, 45, 28, 45, 13, 100, 100, 27, 28, 79, 27, 79, 27, 45, 45, 100, 100, 100, 45, 100, 27, 45, 79, 79, 100, 100, 45, 100, 100, 79, 100, 79, 79, 100, 100, 79, 100, 28, 28, 27, 10, 28, 13, 79, 13, 79, 100, 79, 45, 79, 100, 28, 79, 27, 79, 45, 79, 28, 79, 79, 27, 100, 45, 45, 79, 79, 79, 79, 79, 100, 100, 10, 28, 13, 100, 100, 79, 79, 13, 100, 27, 100, 79, 45, 100, 13]\n"
     ]
    }
   ],
   "source": [
    "\n",
    "\n",
    "from random import uniform\n",
    "\n",
    "\n",
    "A = [0, 5, 27, 6, 13, 28, 100, 45, 10, 79]\n",
    "\n",
    "def prop_sampling(r_num, cum_sum_A):\n",
    "    '''This function returns the index where the random number falls in gap of cummulative sum of probablities of a list'''\n",
    "    \n",
    "    for i in range(len(cum_sum_A)):\n",
    "        if r_num <= cum_sum_A[i]:\n",
    "            return i\n",
    "        \n",
    "\n",
    "\n",
    "# you can free to change all these codes/structure\n",
    "def pick_a_number_from_list(A):    \n",
    "    '''This function returns the selected_random_number from proportional sampling'''\n",
    "    \n",
    "    #Step 1.a:\n",
    "    sum_list = sum(A)\n",
    "    \n",
    "    #Step 1.b:\n",
    "    probablity_A = [ (x/sum_list) for x in A]\n",
    "    \n",
    "    #Step 1.c:    \n",
    "    cum_sum_A = []\n",
    "    cum_sum = 0    \n",
    "    for i in range(0, len(A)):\n",
    "        cum_sum += probablity_A[i]    \n",
    "        cum_sum_A.append(cum_sum)\n",
    "        \n",
    "    \n",
    "    #Step 2:\n",
    "    r_num = uniform(0.0, 1.0)\n",
    "    \n",
    "    #Step 3:\n",
    "    selected_random_number = A[prop_sampling(r_num, cum_sum_A)]\n",
    "    \n",
    "    return selected_random_number\n",
    "\n",
    "def sampling_based_on_magnitude():\n",
    "    '''for i in range(1,100):\n",
    "        number = pick_a_number_from_list(A)\n",
    "        print(number)'''\n",
    "    \n",
    "    #Instead of printing one by one I'm collecting the numbers in list and then printing the list\n",
    "    hundred_exp = [pick_a_number_from_list(A) for i in range(1,100)]\n",
    "    print(hundred_exp)\n",
    "\n",
    "sampling_based_on_magnitude()"
   ]
  },
  {
   "cell_type": "markdown",
   "metadata": {},
   "source": [
    "## Q3: Replace the digits in the string with #(hash)"
   ]
  },
  {
   "cell_type": "code",
   "execution_count": 3,
   "metadata": {},
   "outputs": [
    {
     "name": "stdout",
     "output_type": "stream",
     "text": [
      "Ex 1: A = 234               Output: ###\n",
      "Ex 2: A = a2b3c4            Output: ###\n",
      "Ex 3: A = abc               Output: \n",
      "Ex 5: A = #2a$#b%c%561#     Output: ####\n"
     ]
    }
   ],
   "source": [
    "import re\n",
    "\n",
    "\n",
    "\n",
    "def replace_digits(String):   \n",
    "    '''This function will first find all the numbers in a given string and then it will replace numbers with # symbol'''\n",
    "        \n",
    "    return re.sub(r'[0-9]', \"#\",  \"\".join(re.findall(r'\\d+', String)))\n",
    "\n",
    "\n",
    "print('Ex 1: A = 234               Output:', replace_digits('234'))\n",
    "print('Ex 2: A = a2b3c4            Output:', replace_digits('a2b3c4'))\n",
    "print('Ex 3: A = abc               Output:', replace_digits('abc'))\n",
    "print('Ex 5: A = #2a$#b%c%561#     Output:', replace_digits('#2a$#b%c%561#'))"
   ]
  },
  {
   "cell_type": "markdown",
   "metadata": {},
   "source": [
    "# Q4: Students marks dashboard"
   ]
  },
  {
   "cell_type": "code",
   "execution_count": 4,
   "metadata": {},
   "outputs": [
    {
     "name": "stdout",
     "output_type": "stream",
     "text": [
      "---Top 5 Students---\n",
      "student8 98\n",
      "student10 80\n",
      "student2 78\n",
      "student5 48\n",
      "student7 47\n",
      "\n",
      "\n",
      "---Least 5 Students---\n",
      "student3 12\n",
      "student4 14\n",
      "student9 35\n",
      "student6 43\n",
      "student1 45\n",
      "\n",
      "\n",
      "---Students within 25th and 75th percentile---\n",
      "student9 35\n",
      "student6 43\n",
      "student1 45\n",
      "student7 47\n",
      "student5 48\n"
     ]
    }
   ],
   "source": [
    "\n",
    "Students=['student1','student2','student3','student4','student5','student6','student7','student8','student9','student10'] \n",
    "Marks = [45, 78, 12, 14, 48, 43, 47, 98, 35, 80]\n",
    "\n",
    "\n",
    "\n",
    "def printStudents(iterator):\n",
    "    '''This function prints list of tuple'''\n",
    "    \n",
    "    for student in iterator:\n",
    "        print(student[0], student[1])        \n",
    "\n",
    "        \n",
    "def sortDict(dict, rev=False):\n",
    "    '''This function sorts dictionary by value in ascending or descending order'''\n",
    "    return sorted(dict.items(), key=lambda kv: kv[1], reverse = rev)\n",
    "\n",
    "\n",
    "    \n",
    "def top_5_stud(dict):\n",
    "    '''This function gets list of top 5 students by sorting dictionary in descending order'''\n",
    "    \n",
    "    sorted_list_desc = sortDict(dict, True)\n",
    "    \n",
    "    return sorted_list_desc[:5]\n",
    "\n",
    "\n",
    "def least_5_stud(dict):\n",
    "    '''This function gets list of least 5 students by sorting dictionary in ascending order'''\n",
    "    sorted_list_asc = sortDict(dict)\n",
    "    \n",
    "    return sorted_list_asc[:5]\n",
    "\n",
    "\n",
    "def stud_within_25_and_75(dict):\n",
    "    '''This function gets list of students within 25th and 75th percentile'''\n",
    "    \n",
    "    sorted_list_asc = sortDict(dict)\n",
    "    \n",
    "    #Calculate 25 percentile index\n",
    "    _25_Percentile_Idx = round(0.25 * len(dict))\n",
    "    \n",
    "    #Calculate 75 percentile index\n",
    "    _75_Percentile_Idx = round(0.75 * len(dict))\n",
    "    \n",
    "    # Checking condtion that list comprehension should return only those students \n",
    "    # whose index is greater than 25th percentile index and smaller than 75th percentile index.\n",
    "    # As index starts from 0 hence I have added 1.\n",
    "    return [student for idx, student in enumerate(sorted_list_asc) if (idx+1) > _25_Percentile_Idx and (idx+1) < _75_Percentile_Idx]\n",
    "\n",
    "\n",
    "\n",
    "def display_dash_board(students, marks):\n",
    "    '''This function gets top 5 students, least 5 students and students within 25th and 75th percentile'''\n",
    "    \n",
    "    #Storing two separate list in a dictionary by using student list as key and marks list as value\n",
    "    dict_stud_mark = {}    \n",
    "    for idx, student in enumerate(students):\n",
    "        dict_stud_mark[student] = marks[idx]\n",
    "        \n",
    "    top_5_students = top_5_stud(dict_stud_mark)\n",
    "    \n",
    "    least_5_students = least_5_stud(dict_stud_mark)\n",
    "    \n",
    "    students_within_25_and_75 = stud_within_25_and_75(dict_stud_mark)\n",
    "    \n",
    "    return top_5_students, least_5_students, students_within_25_and_75\n",
    "\n",
    "\n",
    "\n",
    "top_5_students, least_5_students, students_within_25_and_75 = display_dash_board(Students, Marks)\n",
    "\n",
    "\n",
    "print('---Top 5 Students---')\n",
    "printStudents(top_5_students)\n",
    "print('\\n')\n",
    "print('---Least 5 Students---')\n",
    "printStudents(least_5_students)\n",
    "\n",
    "print('\\n')\n",
    "print('---Students within 25th and 75th percentile---')\n",
    "printStudents(students_within_25_and_75)"
   ]
  },
  {
   "cell_type": "markdown",
   "metadata": {},
   "source": [
    "# Q5: Find the closest points"
   ]
  },
  {
   "cell_type": "code",
   "execution_count": 5,
   "metadata": {},
   "outputs": [
    {
     "name": "stdout",
     "output_type": "stream",
     "text": [
      "(6, -7)\n",
      "(1, -1)\n",
      "(6, 0)\n",
      "(-5, -8)\n",
      "(-1, -1)\n"
     ]
    }
   ],
   "source": [
    "import math\n",
    "\n",
    "\n",
    "S = [(1,2),(3,4),(-1,1),(6,-7),(0, 6),(-5,-8),(-1,-1),(6,0),(1,-1)]\n",
    "P = (3,-4)\n",
    "\n",
    "\n",
    "\n",
    "def calculate_cos_distance(point_A, point_B):\n",
    "    '''This function calculates cos distance between points'''\n",
    "    \n",
    "    x = point_A[0]\n",
    "    y = point_A[1]\n",
    "    p = point_B[0]\n",
    "    q = point_B[1]\n",
    "    \n",
    "    numerator = x*p + y*q\n",
    "    denominator = math.sqrt(pow(x, 2) + pow(y, 2)) * math.sqrt(pow(p, 2) + pow(q, 2))\n",
    "    return math.acos(numerator/denominator)\n",
    "\n",
    "\n",
    "def closest_points_to_p(S, P):\n",
    "    '''This function get 5 closest points from S to point P'''\n",
    "    \n",
    "    sorted_cos_dists = sorted([(calculate_cos_distance(x, P), x) for x in S], key=lambda kv: kv[0])    \n",
    "    \n",
    "    #Slicing top 5 in ascending and getting points\n",
    "    closest_points_to_p = [ x[1] for x in sorted_cos_dists[:5]]\n",
    "\n",
    "    return closest_points_to_p\n",
    "\n",
    "\n",
    "#Print each point\n",
    "for p in closest_points_to_p(S, P):\n",
    "        print(p)"
   ]
  },
  {
   "cell_type": "markdown",
   "metadata": {},
   "source": [
    "# Q6: Find which line separates oranges and apples"
   ]
  },
  {
   "cell_type": "code",
   "execution_count": 6,
   "metadata": {},
   "outputs": [
    {
     "name": "stdout",
     "output_type": "stream",
     "text": [
      "Yes\n",
      "No\n",
      "No\n",
      "Yes\n"
     ]
    }
   ],
   "source": [
    "def eval_equation(equation, x, y):\n",
    "    equation = equation.replace('x', '*' + str(x)).replace('y', '*' + str(y))\n",
    "    \n",
    "    return eval(equation)\n",
    "\n",
    "\n",
    "def check_distance_have_same_sign(list):\n",
    "    \n",
    "    pos_dist = [x for x in list if x > 0]\n",
    "    neg_dist = [x for x in list if x < 0]\n",
    "    \n",
    "    if len(pos_dist) == len(list) or len(neg_dist) == len(list):\n",
    "        return True\n",
    "    else:\n",
    "        return False\n",
    "\n",
    "\n",
    "\n",
    "def i_am_the_one(red,blue,line):\n",
    "    \n",
    "    reds = [eval_equation(line, x[0], x[1]) for x in red]\n",
    "    \n",
    "    blues = [eval_equation(line, x[0], x[1]) for x in blue]\n",
    "    \n",
    "    if check_distance_have_same_sign(reds) and check_distance_have_same_sign(blues):\n",
    "        return 'Yes'\n",
    "    else:\n",
    "        return 'No'\n",
    "\n",
    "Red= [(1,1),(2,1),(4,2),(2,4), (-1,4)]\n",
    "Blue= [(-2,-1),(-1,-2),(-3,-2),(-3,-1),(1,-3)]\n",
    "Lines=[\"1x+1y+0\",\"1x-1y+0\",\"1x+0y-3\",\"0x+1y-0.5\"]\n",
    "\n",
    "for i in Lines:\n",
    "    yes_or_no = i_am_the_one(Red, Blue, i)\n",
    "    print(yes_or_no) # the returned value"
   ]
  },
  {
   "cell_type": "markdown",
   "metadata": {},
   "source": [
    "# Q7: Filling the missing values in the specified format"
   ]
  },
  {
   "cell_type": "code",
   "execution_count": 7,
   "metadata": {},
   "outputs": [
    {
     "name": "stdout",
     "output_type": "stream",
     "text": [
      "Input1: \"_,_,_,24\"\n",
      "Output1: 6,6,6,6\n",
      "\n",
      "\n",
      "Input2: \"40,_,_,_,60\"\n",
      "Output2: 20,20,20,20,20\n",
      "\n",
      "\n",
      "Input3: \"80,_,_,_,_\"\n",
      "Output3: 16,16,16,16,16\n",
      "\n",
      "\n",
      "Input4: \"_,_,30,_,_,_,50,_,_\"\n",
      "Output3: 10,10,12,12,12,12,4,4,4\n"
     ]
    }
   ],
   "source": [
    "import re\n",
    "\n",
    "input1 = \"_,_,_,24\"\n",
    "input2 = \"40,_,_,_,60\"\n",
    "input3 = \"80,_,_,_,_\"\n",
    "input4 = \"_,_,30,_,_,_,50,_,_\"\n",
    "\n",
    "def distribute_last_value(string):\n",
    "    '''This function distributes last value to all immediate previously occuring blank spaces including itself'''\n",
    "    \n",
    "    matched_str = re.findall(r'_.*', string)\n",
    "    matched_str = re.findall(r'(\\D*\\d+)', matched_str[0])\n",
    "    \n",
    "    if len(matched_str) == 0:\n",
    "        return \"\";\n",
    "    \n",
    "    splited_str = matched_str[0].split(',')\n",
    "    \n",
    "    distributed_val = \",\".join([str(int(int(splited_str[-1]) / len(splited_str))) for i in splited_str])\n",
    "    \n",
    "    return string.replace(matched_str[0], distributed_val)\n",
    "    \n",
    "   \n",
    "\n",
    "def distribute_first_and_last_value(string):\n",
    "    '''This function distributes sum of first and last value to all blank spaces including themselves'''\n",
    "    \n",
    "    matched_str = re.findall(r'\\d+,_.*_,\\d+', string)\n",
    "    \n",
    "    if len(matched_str) == 0:\n",
    "        return \"\";\n",
    "    \n",
    "    splited_str = matched_str[0].split(',')\n",
    "    \n",
    "    distributed_val = \",\".join([str(int((int(splited_str[0]) + int(splited_str[-1])) / len(splited_str))) for i in splited_str])\n",
    "    \n",
    "    return string.replace(matched_str[0], distributed_val)\n",
    "\n",
    "\n",
    "\n",
    "\n",
    "def distribute_first_value(string):\n",
    "    '''This function distributes first value to all next immediately occuring blank spaces including itself'''\n",
    "    \n",
    "    matched_str = re.findall(r'\\d+,_.*', string)\n",
    "    \n",
    "    if len(matched_str) == 0:\n",
    "        return \"\";\n",
    "    \n",
    "    splited_str = matched_str[0].split(',')\n",
    "    \n",
    "    distributed_val = \",\".join([str(int(int(splited_str[0]) / len(splited_str))) for i in splited_str])\n",
    "    \n",
    "    return string.replace(matched_str[0], distributed_val)\n",
    "\n",
    "\n",
    "def curve_smoothing(string):\n",
    "    '''This function is combination of all above function in respective sequence and returns smooth curve'''\n",
    "\n",
    "    input1 = distribute_last_value(string)\n",
    "    input2 = distribute_first_and_last_value(input1)\n",
    "    input3 = distribute_first_value(input2)\n",
    "    \n",
    "    return input3\n",
    "\n",
    "\n",
    "#----------Output-------------\n",
    "print('Input1: \"_,_,_,24\"')\n",
    "print('Output1:', distribute_last_value(input1))\n",
    "\n",
    "print('\\n')\n",
    "print('Input2: \"40,_,_,_,60\"')\n",
    "print('Output2:', distribute_first_and_last_value(input2))\n",
    "\n",
    "print('\\n')\n",
    "print('Input3: \"80,_,_,_,_\"')\n",
    "print('Output3:', distribute_first_value(input3))\n",
    "\n",
    "print('\\n')\n",
    "print('Input4: \"_,_,30,_,_,_,50,_,_\"')\n",
    "print('Output3:', curve_smoothing(input4))"
   ]
  },
  {
   "cell_type": "markdown",
   "metadata": {},
   "source": [
    "# Q8: Find the probabilities"
   ]
  },
  {
   "cell_type": "code",
   "execution_count": 8,
   "metadata": {},
   "outputs": [
    {
     "name": "stdout",
     "output_type": "stream",
     "text": [
      "a. P(F=F1|S==S1)=1/4, P(F=F1|S==S2)=1/3, P(F=F1|S==S3)=0/3\n",
      "b. P(F=F2|S==S1)=1/4, P(F=F2|S==S2)=1/3, P(F=F2|S==S3)=1/3\n",
      "c. P(F=F3|S==S1)=0/4, P(F=F3|S==S2)=1/3, P(F=F3|S==S3)=1/3\n",
      "d. P(F=F4|S==S1)=1/4, P(F=F4|S==S2)=0/3, P(F=F4|S==S3)=1/3\n",
      "e. P(F=F5|S==S1)=1/4, P(F=F5|S==S2)=0/3, P(F=F5|S==S3)=0/3\n"
     ]
    }
   ],
   "source": [
    "A = [['F1','S1'],['F2','S2'],['F3','S3'],['F1','S2'],['F2','S3'],['F3','S2'],['F2','S1'],['F4','S1'],['F4','S3'],['F5','S1']]\n",
    "\n",
    "def cal_probablity(F, S):\n",
    "    cntr_F = 0\n",
    "    cntr_S = 0\n",
    "    \n",
    "    for vector in A:\n",
    "        if S in vector:\n",
    "            cntr_S += 1\n",
    "            if F in vector:\n",
    "                cntr_F += 1\n",
    "            \n",
    "    return \"%d/%d\" %(cntr_F, cntr_S)\n",
    "\n",
    "\n",
    "def compute_conditional_probabilites():\n",
    "    \n",
    "    print('a. P(F=F1|S==S1)=%s, P(F=F1|S==S2)=%s, P(F=F1|S==S3)=%s' % (cal_probablity('F1', 'S1'), cal_probablity('F1', 'S2'), cal_probablity('F1', 'S3')))\n",
    "    print('b. P(F=F2|S==S1)=%s, P(F=F2|S==S2)=%s, P(F=F2|S==S3)=%s' % (cal_probablity('F2', 'S1'), cal_probablity('F2', 'S2'), cal_probablity('F2', 'S3')))\n",
    "    print('c. P(F=F3|S==S1)=%s, P(F=F3|S==S2)=%s, P(F=F3|S==S3)=%s' % (cal_probablity('F3', 'S1'), cal_probablity('F3', 'S2'), cal_probablity('F3', 'S3')))\n",
    "    print('d. P(F=F4|S==S1)=%s, P(F=F4|S==S2)=%s, P(F=F4|S==S3)=%s' % (cal_probablity('F4', 'S1'), cal_probablity('F4', 'S2'), cal_probablity('F4', 'S3')))\n",
    "    print('e. P(F=F5|S==S1)=%s, P(F=F5|S==S2)=%s, P(F=F5|S==S3)=%s' % (cal_probablity('F5', 'S1'), cal_probablity('F5', 'S2'), cal_probablity('F5', 'S3')))\n",
    "\n",
    "\n",
    "compute_conditional_probabilites()\n",
    "\n"
   ]
  },
  {
   "cell_type": "markdown",
   "metadata": {},
   "source": [
    "# Q9: Operations on sentences"
   ]
  },
  {
   "cell_type": "code",
   "execution_count": 9,
   "metadata": {},
   "outputs": [
    {
     "name": "stdout",
     "output_type": "stream",
     "text": [
      "a. 7\n",
      "b. ['first', 'F', '5']\n",
      "c. ['second', 'S', '3']\n"
     ]
    }
   ],
   "source": [
    "\n",
    "\n",
    "def string_features(S1, S2):\n",
    "        \n",
    "    a = 0\n",
    "    b = []    \n",
    "    \n",
    "    for s in S1.split(' '):\n",
    "        if s in S2:\n",
    "            a += 1\n",
    "        else:\n",
    "            b.append(s)\n",
    "    \n",
    "    c = [s for s in S2.split(' ') if s not in S1]\n",
    "    \n",
    "    return a, b, c\n",
    "\n",
    "S1= \"the first column F will contain only 5 uniques values\"\n",
    "S2= \"the second column S will contain only 3 uniques values\"\n",
    "\n",
    "a,b,c = string_features(S1, S2)\n",
    "print('a.', a)\n",
    "print('b.', b)\n",
    "print('c.', c)"
   ]
  },
  {
   "cell_type": "markdown",
   "metadata": {},
   "source": [
    "# Q10: Error Function"
   ]
  },
  {
   "cell_type": "code",
   "execution_count": 10,
   "metadata": {},
   "outputs": [
    {
     "name": "stdout",
     "output_type": "stream",
     "text": [
      "Loss: 0.42430993457031635\n",
      "\n",
      "(I've verified the formula but there is slight difference in my output from expected output : 0.44982)\n"
     ]
    }
   ],
   "source": [
    "import math\n",
    "\n",
    "def summation_of_Y_and_Yscore(y, y_score):\n",
    "    '''This function applies formula of loss on y and y_score cordinates and returns a value'''\n",
    "    \n",
    "    return (y * math.log10(y_score)) + ((1 - y) * math.log10(1 - y_score))\n",
    "\n",
    "def compute_log_loss(A):\n",
    "    '''This functions takes list of cordinates then applies error function and returns the loss'''\n",
    "    \n",
    "    sum_of_Y_and_Yscore = 0\n",
    "    \n",
    "    for cordinate in A:\n",
    "        sum_of_Y_and_Yscore += summation_of_Y_and_Yscore(cordinate[0], cordinate[1])\n",
    "    \n",
    "    loss = (-1/len(A)) * sum_of_Y_and_Yscore\n",
    "    \n",
    "    return loss\n",
    "\n",
    "\n",
    "A = [[1, 0.4], [0, 0.5], [0, 0.9], [0, 0.3], [0, 0.6], [1, 0.1], [1, 0.9], [1, 0.8]]\n",
    "loss = compute_log_loss(A)\n",
    "print('Loss:', loss)\n",
    "\n",
    "print(\"\\n(I've verified the formula but there is slight difference in my output from expected output : 0.44982)\")"
   ]
  },
  {
   "cell_type": "code",
   "execution_count": null,
   "metadata": {},
   "outputs": [],
   "source": []
  }
 ],
 "metadata": {
  "kernelspec": {
   "display_name": "Python 3",
   "language": "python",
   "name": "python3"
  },
  "language_info": {
   "codemirror_mode": {
    "name": "ipython",
    "version": 3
   },
   "file_extension": ".py",
   "mimetype": "text/x-python",
   "name": "python",
   "nbconvert_exporter": "python",
   "pygments_lexer": "ipython3",
   "version": "3.6.4"
  }
 },
 "nbformat": 4,
 "nbformat_minor": 2
}
