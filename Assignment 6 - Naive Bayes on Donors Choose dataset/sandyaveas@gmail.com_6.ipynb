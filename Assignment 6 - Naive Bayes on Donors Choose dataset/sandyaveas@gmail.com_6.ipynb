{
 "cells": [
  {
   "cell_type": "code",
   "execution_count": 1,
   "metadata": {},
   "outputs": [],
   "source": [
    "%matplotlib inline\n",
    "import warnings\n",
    "warnings.filterwarnings(\"ignore\")\n",
    "\n",
    "import pandas as pd\n",
    "import numpy as np\n",
    "import nltk\n",
    "import matplotlib.pyplot as plt\n",
    "import seaborn as sns\n",
    "import math\n",
    "from sklearn.feature_extraction.text import TfidfVectorizer\n",
    "from sklearn.feature_extraction.text import CountVectorizer\n",
    "from sklearn.metrics import confusion_matrix\n",
    "from sklearn import metrics\n",
    "from sklearn.metrics import roc_curve, auc\n",
    "from sklearn.metrics import roc_auc_score\n",
    "from sklearn.neighbors import KNeighborsClassifier\n",
    "\n",
    "import re\n",
    "# Tutorial about Python regular expressions: https://pymotw.com/2/re/\n",
    "\n",
    "from tqdm import tqdm\n",
    "\n",
    "from sklearn.preprocessing import Normalizer\n",
    "from scipy.sparse import hstack"
   ]
  },
  {
   "cell_type": "code",
   "execution_count": 2,
   "metadata": {},
   "outputs": [],
   "source": [
    "#Loading 50K prepocessed data into DataFrame\n",
    "data = pd.read_csv('preprocessed_data.csv',nrows=50000)"
   ]
  },
  {
   "cell_type": "code",
   "execution_count": 3,
   "metadata": {},
   "outputs": [],
   "source": [
    "#Split Features and Class(Porject is approved or not)\n",
    "y = data['project_is_approved'].values\n",
    "X = data.drop(['project_is_approved'], axis=1)"
   ]
  },
  {
   "cell_type": "code",
   "execution_count": 4,
   "metadata": {},
   "outputs": [],
   "source": [
    "#Split data into train and test dataset by using mode selection module from sikit learn library\n",
    "from sklearn.model_selection import train_test_split\n",
    "\n",
    "X_train, X_test, y_train, y_test = train_test_split(X, y, test_size=0.33, stratify=y)\n",
    "X_train, X_cv, y_train, y_cv = train_test_split(X_train, y_train, test_size=0.33, stratify=y_train)"
   ]
  },
  {
   "cell_type": "code",
   "execution_count": 5,
   "metadata": {},
   "outputs": [],
   "source": [
    "def convert_Text_Into_BOW(feature, min_df = 1, ngram_range = (1,1), max_features = None):\n",
    "    '''This function converts the sentences into Bag of Words'''\n",
    "        \n",
    "    vectorizer = CountVectorizer(min_df=min_df, ngram_range=ngram_range, max_features=max_features)\n",
    "    vectorizer.fit(X_train[feature].values)\n",
    "    \n",
    "    X_train_ohe = vectorizer.transform(X_train[feature].values)\n",
    "    X_cv_ohe = vectorizer.transform(X_cv[feature].values)\n",
    "    X_test_ohe = vectorizer.transform(X_test[feature].values)\n",
    "    \n",
    "    return vectorizer, X_train_ohe, X_cv_ohe, X_test_ohe"
   ]
  },
  {
   "cell_type": "code",
   "execution_count": 6,
   "metadata": {},
   "outputs": [],
   "source": [
    "def convert_Text_Into_TDIDF(feature):\n",
    "    '''This function converts the sentence using TfIdfVectorizer'''\n",
    "    \n",
    "    vectorizer = TfidfVectorizer(min_df=10, ngram_range=(1,4), max_features=5000)\n",
    "    vectorizer.fit(X_train[feature].values)\n",
    "    \n",
    "    X_train_ohe = vectorizer.transform(X_train[feature].values)\n",
    "    X_cv_ohe = vectorizer.transform(X_cv[feature].values)\n",
    "    X_test_ohe = vectorizer.transform(X_test[feature].values)\n",
    "    \n",
    "    return vectorizer, X_train_ohe, X_cv_ohe, X_test_ohe"
   ]
  },
  {
   "cell_type": "code",
   "execution_count": 7,
   "metadata": {},
   "outputs": [],
   "source": [
    "def encode_numerical_features(feature):\n",
    "    '''This function normalizes the numerical features'''\n",
    "    \n",
    "    normalizer = Normalizer()    \n",
    "    normalizer.fit(X_train[feature].values.reshape(1,-1))\n",
    "    \n",
    "    X_train_norm = normalizer.transform(X_train[feature].values.reshape(1,-1))\n",
    "    X_cv_norm = normalizer.transform(X_cv[feature].values.reshape(1,-1))\n",
    "    X_test_norm = normalizer.transform(X_test[feature].values.reshape(1,-1))\n",
    "    \n",
    "    #Converting to column Vector by reshaping the row vector\n",
    "    return normalizer, X_train_norm.reshape(-1,1), X_cv_norm.reshape(-1,1), X_test_norm.reshape(-1,1)"
   ]
  },
  {
   "cell_type": "code",
   "execution_count": 8,
   "metadata": {},
   "outputs": [
    {
     "data": {
      "text/plain": [
       "\"\\n#Categorical\\nX_train['school_state']\\nX_train['teacher_prefix']\\nX_train['project_grade_category']\\nX_train['clean_categories']\\nX_train['clean_subcategories']\\n\\n#numerical\\nX_train['teacher_number_of_previously_posted_projects']\\nX_train['price']\\n\\n#essay\\nX_train['essay']\""
      ]
     },
     "execution_count": 8,
     "metadata": {},
     "output_type": "execute_result"
    }
   ],
   "source": [
    "'''\n",
    "#Categorical\n",
    "X_train['school_state']\n",
    "X_train['teacher_prefix']\n",
    "X_train['project_grade_category']\n",
    "X_train['clean_categories']\n",
    "X_train['clean_subcategories']\n",
    "\n",
    "#numerical\n",
    "X_train['teacher_number_of_previously_posted_projects']\n",
    "X_train['price']\n",
    "\n",
    "#essay\n",
    "X_train['essay']'''"
   ]
  },
  {
   "cell_type": "markdown",
   "metadata": {},
   "source": [
    "### One hot Encoding of Categorical features"
   ]
  },
  {
   "cell_type": "code",
   "execution_count": 9,
   "metadata": {},
   "outputs": [],
   "source": [
    "#One hot Encoding of school state\n",
    "vectorizer_state, X_train_state_ohe, X_cv_state_ohe, X_test_state_ohe = convert_Text_Into_BOW('school_state')\n",
    "lst_state_features = vectorizer_state.get_feature_names()\n",
    "\n",
    "#One hot Encoding of teacher_prefix\n",
    "vectorizer_prefix, X_train_prefix_ohe, X_cv_prefix_ohe, X_test_prefix_ohe = convert_Text_Into_BOW('teacher_prefix')\n",
    "lst_prefix_features = vectorizer_prefix.get_feature_names()\n",
    "\n",
    "#One hot Encoding of project_grade_category\n",
    "vectorizer_grade, X_train_grade_ohe, X_cv_grade_ohe, X_test_grade_ohe = convert_Text_Into_BOW('project_grade_category')\n",
    "lst_grade_features = vectorizer_grade.get_feature_names()\n",
    "\n",
    "#One hot Encoding of clean_categories\n",
    "vectorizer_categories, X_train_categories_ohe, X_cv_categories_ohe, X_test_categories_ohe = \\\n",
    "    convert_Text_Into_BOW('clean_categories')    \n",
    "lst_categories_features = vectorizer_categories.get_feature_names()\n",
    "\n",
    "\n",
    "#One hot Encoding of clean_subcategories\n",
    "vectorizer_subcategories, X_train_subcategories_ohe, X_cv_subcategories_ohe, X_test_subcategories_ohe = \\\n",
    "    convert_Text_Into_BOW('clean_subcategories')\n",
    "lst_subcategories_features = vectorizer_subcategories.get_feature_names()"
   ]
  },
  {
   "cell_type": "markdown",
   "metadata": {},
   "source": [
    "### One hot Encoding of Numerical features"
   ]
  },
  {
   "cell_type": "code",
   "execution_count": 10,
   "metadata": {},
   "outputs": [],
   "source": [
    "#One hot Encoding of teacher_number_of_previously_posted_projects\n",
    "normalizer_prev_projects, X_train_prev_projects_norm, X_cv_prev_projects_norm, X_test_prev_projects_norm = \\\n",
    "            encode_numerical_features('teacher_number_of_previously_posted_projects')\n",
    "    \n",
    "#One hot Encoding of price\n",
    "normalizer_price, X_train_price_norm, X_cv_price_norm, X_test_price_norm = encode_numerical_features('price')"
   ]
  },
  {
   "cell_type": "markdown",
   "metadata": {},
   "source": [
    "### One hot Encoding of Text (BOW)"
   ]
  },
  {
   "cell_type": "code",
   "execution_count": 11,
   "metadata": {},
   "outputs": [],
   "source": [
    "#One hot Encoding of essay\n",
    "vectorizer_BOW, X_train_essay_ohe_BOW, X_cv_essay_ohe_BOW, X_test_essay_ohe_BOW = \\\n",
    "    convert_Text_Into_BOW('essay', min_df=10, ngram_range=(1,4), max_features=5000)\n",
    "lst_BOW_features = vectorizer_BOW.get_feature_names()"
   ]
  },
  {
   "cell_type": "markdown",
   "metadata": {},
   "source": [
    "### One hot Encoding of Text (TFIDF)"
   ]
  },
  {
   "cell_type": "code",
   "execution_count": 12,
   "metadata": {},
   "outputs": [],
   "source": [
    "#One hot Encoding of essay\n",
    "vectorizer_TFIDF, X_train_essay_ohe_TFIDF, X_cv_essay_ohe_TFIDF, X_test_essay_ohe_TFIDF = \\\n",
    "    convert_Text_Into_TDIDF('essay')"
   ]
  },
  {
   "cell_type": "markdown",
   "metadata": {},
   "source": [
    "### Concatinating all the features"
   ]
  },
  {
   "cell_type": "code",
   "execution_count": 13,
   "metadata": {},
   "outputs": [],
   "source": [
    "#Concatinating feature set 1\n",
    "X_tr_set1 = hstack((X_train_state_ohe, X_train_prefix_ohe, X_train_grade_ohe, X_train_categories_ohe, X_train_subcategories_ohe,\n",
    "             X_train_prev_projects_norm, X_train_price_norm, X_train_essay_ohe_BOW)).tocsr()\n",
    "\n",
    "X_cv_set1 = hstack((X_cv_state_ohe, X_cv_prefix_ohe, X_cv_grade_ohe, X_cv_categories_ohe, X_cv_subcategories_ohe,\n",
    "             X_cv_prev_projects_norm, X_cv_price_norm, X_cv_essay_ohe_BOW)).tocsr()\n",
    "\n",
    "X_te_set1 = hstack((X_test_state_ohe, X_test_prefix_ohe, X_test_grade_ohe, X_test_categories_ohe, X_test_subcategories_ohe,\n",
    "             X_test_prev_projects_norm, X_test_price_norm, X_test_essay_ohe_BOW)).tocsr()"
   ]
  },
  {
   "cell_type": "code",
   "execution_count": 14,
   "metadata": {},
   "outputs": [],
   "source": [
    "#Concatinating feature set 2\n",
    "X_tr_set2 = hstack((X_train_state_ohe, X_train_prefix_ohe, X_train_grade_ohe, X_train_categories_ohe, X_train_subcategories_ohe,\n",
    "             X_train_prev_projects_norm, X_train_price_norm, X_train_essay_ohe_TFIDF)).tocsr()\n",
    "\n",
    "X_cv_set2 = hstack((X_cv_state_ohe, X_cv_prefix_ohe, X_cv_grade_ohe, X_cv_categories_ohe, X_cv_subcategories_ohe,\n",
    "             X_cv_prev_projects_norm, X_cv_price_norm, X_cv_essay_ohe_TFIDF)).tocsr()\n",
    "\n",
    "X_te_set2 = hstack((X_test_state_ohe, X_test_prefix_ohe, X_test_grade_ohe, X_test_categories_ohe, X_test_subcategories_ohe,\n",
    "             X_test_prev_projects_norm, X_test_price_norm, X_test_essay_ohe_TFIDF)).tocsr()"
   ]
  },
  {
   "cell_type": "markdown",
   "metadata": {},
   "source": [
    "### 1. Applying Multinomial Naive Bayes"
   ]
  },
  {
   "cell_type": "code",
   "execution_count": 15,
   "metadata": {},
   "outputs": [],
   "source": [
    "from sklearn.naive_bayes import MultinomialNB\n",
    "\n",
    "def applyMultinomialNB(x, y, x_test):\n",
    "    '''This function applies Multinomial Naive Bayes and predicts the result'''\n",
    "    \n",
    "    classifier = MultinomialNB()\n",
    "    classifier.fit(x, y)\n",
    "    \n",
    "    y_pred = classifier.predict(x_test)\n",
    "    \n",
    "    return classifier, y_pred"
   ]
  },
  {
   "cell_type": "code",
   "execution_count": 16,
   "metadata": {},
   "outputs": [
    {
     "name": "stdout",
     "output_type": "stream",
     "text": [
      "[1 1 1 ... 1 1 0]\n",
      "[1 1 0 ... 1 1 0]\n",
      "[1 1 1 ... 1 1 1]\n",
      "[1 1 1 ... 1 1 1]\n"
     ]
    }
   ],
   "source": [
    "#Applying Multinomial Naive Bayes on feature set 1\n",
    "classifierNB_set1, y_train_pred_set1 = applyMultinomialNB(X_tr_set1, y_train, X_te_set1)\n",
    "print(y_train_pred_set1)\n",
    "\n",
    "classifierNB_set1, y_cv_pred_set1 = applyMultinomialNB(X_cv_set1, y_cv, X_te_set1)\n",
    "print(y_cv_pred_set1)\n",
    "\n",
    "#Applying Multinomial Naive Bayes on feature set 2\n",
    "classifierNB_set2, y_train_pred_set2 = applyMultinomialNB(X_tr_set2, y_train, X_te_set2)\n",
    "print(y_train_pred_set2)\n",
    "\n",
    "classifierNB_set2, y_cv_pred_set2 = applyMultinomialNB(X_cv_set2, y_cv, X_te_set2)\n",
    "print(y_cv_pred_set2)"
   ]
  },
  {
   "cell_type": "markdown",
   "metadata": {},
   "source": [
    "### 2. The hyper paramter tuning(find best alpha:smoothing parameter)"
   ]
  },
  {
   "cell_type": "code",
   "execution_count": 17,
   "metadata": {},
   "outputs": [],
   "source": [
    "def find_Best_Alpha(X_train, y_train, X_cv, y_cv, alpha_param_range):\n",
    "    \n",
    "    train_auc = []\n",
    "    cv_auc = []\n",
    "    \n",
    "    for a in tqdm(alpha_param_range):\n",
    "        classifier = MultinomialNB(alpha = a)\n",
    "        classifier.fit(X_train, y_train)\n",
    "        \n",
    "        y_train_pred = classifier.predict_proba(X_train)[:,1]\n",
    "        y_cv_pred = classifier.predict_proba(X_cv)[:,1]\n",
    "        \n",
    "        #y_train_pred = batch_predict(classifier, X_train)\n",
    "        #y_cv_pred = batch_predict(classifier, X_cv)\n",
    "        \n",
    "        train_auc.append(roc_auc_score(y_train, y_train_pred))\n",
    "        cv_auc.append(roc_auc_score(y_cv, y_cv_pred))\n",
    "    \n",
    "    return train_auc, cv_auc"
   ]
  },
  {
   "cell_type": "code",
   "execution_count": 18,
   "metadata": {},
   "outputs": [],
   "source": [
    "def plotting_Train_CV_Auc_curve(alpha_param_range, train_auc, cv_auc, title):\n",
    "    \n",
    "    log_alpha_param_range = [math.log(alpha) for alpha in alpha_param_range]\n",
    "    \n",
    "    #Plotting curve\n",
    "    plt.plot(log_alpha_param_range, train_auc, label='Train alpha curve')\n",
    "    plt.plot(log_alpha_param_range, cv_auc, label='Cross validation alpha curve')\n",
    "    \n",
    "    #Plotting scattered points\n",
    "    plt.scatter(log_alpha_param_range, train_auc, label='Train alpha points')\n",
    "    plt.scatter(log_alpha_param_range, cv_auc, label='Cross validation alpha points')    \n",
    "    \n",
    "    #Adding legends, label, title and grid to the plot\n",
    "    plt.legend()\n",
    "    plt.xlabel(\"Alpha / Learning Rate\")\n",
    "    plt.ylabel('Likelihood')\n",
    "    plt.title(title)\n",
    "    plt.grid()\n",
    "    \n",
    "    plt.show()"
   ]
  },
  {
   "cell_type": "code",
   "execution_count": 19,
   "metadata": {},
   "outputs": [],
   "source": [
    "def plot_AUC(train_fpr, train_tpr, test_fpr, test_tpr, train_auc_set1, test_auc_set1, title):\n",
    "    '''This function plot AUC curve for both train and test FPR and TPR'''\n",
    "    \n",
    "    plt.plot(train_fpr, train_tpr, label= f\"Train AUC = {train_auc_set1}\" )\n",
    "    plt.plot(test_fpr, test_tpr, label = f\"Test AUC = {test_auc_set1}\")\n",
    "    plt.plot([0, 1], [0, 1], color='navy', lw=2, linestyle='--')\n",
    "        \n",
    "    plt.legend()\n",
    "    plt.xlabel(\"Alpha / Learning Rate\")\n",
    "    plt.ylabel(\"AUC\")    \n",
    "    plt.title(title)\n",
    "    \n",
    "    plt.grid()\n",
    "    plt.show()"
   ]
  },
  {
   "cell_type": "code",
   "execution_count": 20,
   "metadata": {},
   "outputs": [],
   "source": [
    "def find_best_threshold(threshould, fpr, tpr):\n",
    "    '''This functions returns best threshold'''\n",
    "    \n",
    "    t = threshould[np.argmax(tpr*(1-fpr))]\n",
    "    \n",
    "    print(\"The maximum value of tpr*(1-fpr)\", max(tpr*(1-fpr)), \"for threshold\", np.round(t,3))\n",
    "    return t\n",
    "\n",
    "def predict_with_best_t(proba, threshould):\n",
    "    predictions = []\n",
    "    for i in proba:\n",
    "        if i>=threshould:\n",
    "            predictions.append(1)\n",
    "        else:\n",
    "            predictions.append(0)\n",
    "    return predictions"
   ]
  },
  {
   "cell_type": "markdown",
   "metadata": {},
   "source": [
    "### Finding Best Alpha in Features set 1"
   ]
  },
  {
   "cell_type": "code",
   "execution_count": 21,
   "metadata": {},
   "outputs": [
    {
     "name": "stderr",
     "output_type": "stream",
     "text": [
      "100%|████████████████████████████████████████████████████████████████████████████████████| 8/8 [00:00<00:00, 16.34it/s]\n"
     ]
    },
    {
     "data": {
      "image/png": "[encoded data removed]",
      "text/plain": [
       "<matplotlib.figure.Figure at 0x2276b226550>"
      ]
     },
     "metadata": {},
     "output_type": "display_data"
    }
   ],
   "source": [
    "\n",
    "\n",
    "alpha_param_range=[0.0001,0.001,0.01,0.1,1,10,100,1000]\n",
    "\n",
    "train_auc, cv_auc = find_Best_Alpha(X_tr_set1, y_train, X_cv_set1, y_cv, alpha_param_range)\n",
    "\n",
    "plotting_Train_CV_Auc_curve(alpha_param_range, train_auc, cv_auc, 'Likelihood vs Alpha for Feature set 1')"
   ]
  },
  {
   "cell_type": "markdown",
   "metadata": {},
   "source": [
    "### Choosing the best alpha from the above plot for feature set 1"
   ]
  },
  {
   "cell_type": "code",
   "execution_count": 22,
   "metadata": {},
   "outputs": [],
   "source": [
    "#Choosing the best alpha from the above plot\n",
    "best_alpha_set1 = 100\n",
    "\n",
    "classifier = MultinomialNB(alpha = best_alpha_set1)\n",
    "classifier.fit(X_tr_set1, y_train)\n",
    "        \n",
    "y_train_pred_set1 = classifier.predict_proba(X_tr_set1)[:,1]\n",
    "y_test_pred_set1 = classifier.predict_proba(X_te_set1)[:,1]"
   ]
  },
  {
   "cell_type": "markdown",
   "metadata": {},
   "source": [
    "### Finding AUC on train and test data for feature set 1"
   ]
  },
  {
   "cell_type": "code",
   "execution_count": 23,
   "metadata": {},
   "outputs": [
    {
     "name": "stdout",
     "output_type": "stream",
     "text": [
      "Train Auc for set 1\n",
      "0.6481066099024949\n",
      "\n",
      " Test Auc for set 1\n",
      "0.618421856203655\n"
     ]
    },
    {
     "data": {
      "image/png": "[encoded data removed]",
      "text/plain": [
       "<matplotlib.figure.Figure at 0x22761912ba8>"
      ]
     },
     "metadata": {},
     "output_type": "display_data"
    }
   ],
   "source": [
    "#Finding AUC on train and test data\n",
    "train_auc_set1 = roc_auc_score(y_train, y_train_pred_set1)\n",
    "print('Train Auc for set 1')\n",
    "print(train_auc_set1)\n",
    "\n",
    "test_auc_set1 = roc_auc_score(y_test, y_test_pred_set1)\n",
    "print('\\n Test Auc for set 1')\n",
    "print(test_auc_set1)\n",
    "\n",
    "\n",
    "\n",
    "#Finding FPR and TPR both on train and test\n",
    "train_fpr_set1, train_tpr_set1, train_threshold_set1 = roc_curve(y_train, y_train_pred_set1)\n",
    "test_fpr_set1, test_tpr_set1, test_threshold_set1 = roc_curve(y_test, y_test_pred_set1)\n",
    "\n",
    "\n",
    "#Plotting AUC curve\n",
    "plot_AUC(train_fpr_set1, train_tpr_set1, test_fpr_set1, test_tpr_set1, train_auc_set1, test_auc_set1,\n",
    "         'AUC vs Alpha for Feature set 1')"
   ]
  },
  {
   "cell_type": "markdown",
   "metadata": {},
   "source": [
    "### Finding the best threshold and confusion matrix on train and test probability for feature set 1"
   ]
  },
  {
   "cell_type": "code",
   "execution_count": 24,
   "metadata": {},
   "outputs": [
    {
     "name": "stdout",
     "output_type": "stream",
     "text": [
      "The maximum value of tpr*(1-fpr) 0.3798963340625611 for threshold 1.0\n",
      "\n",
      "Train confusion matrix for set 1\n",
      "[[ 2376  1219]\n",
      " [ 8015 10835]]\n"
     ]
    },
    {
     "data": {
      "text/plain": [
       "<matplotlib.axes._subplots.AxesSubplot at 0x2276c0441d0>"
      ]
     },
     "execution_count": 24,
     "metadata": {},
     "output_type": "execute_result"
    },
    {
     "data": {
      "image/png": "[encoded data removed]",
      "text/plain": [
       "<matplotlib.figure.Figure at 0x2276b226400>"
      ]
     },
     "metadata": {},
     "output_type": "display_data"
    }
   ],
   "source": [
    "import seaborn as sns;\n",
    "\n",
    "#Finding the best threshold\n",
    "best_t = find_best_threshold(train_threshold_set1, train_fpr_set1, train_tpr_set1)\n",
    "\n",
    "#Finding confusion matrix for train probability\n",
    "train_confusion_matrix = confusion_matrix(y_train, predict_with_best_t(y_train_pred_set1, best_t))\n",
    "print(\"\\nTrain confusion matrix for set 1\")\n",
    "print(train_confusion_matrix)\n",
    "\n",
    "#Seaborn Heatmap representaion of Train confusion matrix\n",
    "sns.heatmap(train_confusion_matrix, annot=True, fmt=\"d\")"
   ]
  },
  {
   "cell_type": "code",
   "execution_count": 25,
   "metadata": {},
   "outputs": [
    {
     "name": "stdout",
     "output_type": "stream",
     "text": [
      "\n",
      "Test confusion matrix for set 1\n",
      "[[1620 1022]\n",
      " [5963 7895]]\n"
     ]
    },
    {
     "data": {
      "text/plain": [
       "<matplotlib.axes._subplots.AxesSubplot at 0x227616d0860>"
      ]
     },
     "execution_count": 25,
     "metadata": {},
     "output_type": "execute_result"
    },
    {
     "data": {
      "image/png": "[encoded data removed]",
      "text/plain": [
       "<matplotlib.figure.Figure at 0x22703e0a438>"
      ]
     },
     "metadata": {},
     "output_type": "display_data"
    }
   ],
   "source": [
    "#Finding confusion matrix for test probability\n",
    "test_confusion_matrix = confusion_matrix(y_test, predict_with_best_t(y_test_pred_set1, best_t))\n",
    "print(\"\\nTest confusion matrix for set 1\")\n",
    "print(test_confusion_matrix)\n",
    "\n",
    "#Seaborn Heatmap representaion of Test confusion matrix\n",
    "sns.heatmap(test_confusion_matrix, annot=True, fmt=\"d\")"
   ]
  },
  {
   "cell_type": "markdown",
   "metadata": {},
   "source": [
    "### Finding Best Alpha in Features set 2"
   ]
  },
  {
   "cell_type": "code",
   "execution_count": 26,
   "metadata": {},
   "outputs": [
    {
     "name": "stderr",
     "output_type": "stream",
     "text": [
      "100%|████████████████████████████████████████████████████████████████████████████████████| 8/8 [00:00<00:00, 16.84it/s]\n"
     ]
    },
    {
     "data": {
      "image/png": "[encoded data removed]",
      "text/plain": [
       "<matplotlib.figure.Figure at 0x2275ffc1ac8>"
      ]
     },
     "metadata": {},
     "output_type": "display_data"
    }
   ],
   "source": [
    "alpha_param_range=[0.001,0.01,0.1,1,10,100,1000,10000]\n",
    "\n",
    "train_auc, cv_auc = find_Best_Alpha(X_tr_set2, y_train, X_cv_set2, y_cv, alpha_param_range)\n",
    "\n",
    "plotting_Train_CV_Auc_curve(alpha_param_range, train_auc, cv_auc, 'Likelihood vs Alpha for Feature set 2')"
   ]
  },
  {
   "cell_type": "markdown",
   "metadata": {},
   "source": [
    "### Choosing the best alpha from the above plot for feature set 2"
   ]
  },
  {
   "cell_type": "code",
   "execution_count": 27,
   "metadata": {},
   "outputs": [],
   "source": [
    "#Choosing the best alpha from the above plot\n",
    "best_alpha_set2 = 100\n",
    "\n",
    "classifier = MultinomialNB(alpha = best_alpha_set2)\n",
    "classifier.fit(X_tr_set2, y_train)\n",
    "        \n",
    "y_train_pred_set2 = classifier.predict_proba(X_tr_set2)[:,1]\n",
    "y_test_pred_set2 = classifier.predict_proba(X_te_set2)[:,1]"
   ]
  },
  {
   "cell_type": "markdown",
   "metadata": {},
   "source": [
    "### Finding AUC on train and test data for feature set 2"
   ]
  },
  {
   "cell_type": "code",
   "execution_count": 28,
   "metadata": {},
   "outputs": [
    {
     "name": "stdout",
     "output_type": "stream",
     "text": [
      "Train Auc for set 2\n",
      "0.5354869974876689\n",
      "\n",
      " Test Auc for set 2\n",
      "0.5272028367319046\n"
     ]
    },
    {
     "data": {
      "image/png": "[encoded data removed]",
      "text/plain": [
       "<matplotlib.figure.Figure at 0x2275778f978>"
      ]
     },
     "metadata": {},
     "output_type": "display_data"
    }
   ],
   "source": [
    "#Finding AUC on train and test data\n",
    "train_auc_set2 = roc_auc_score(y_train, y_train_pred_set2)\n",
    "print('Train Auc for set 2')\n",
    "print(train_auc_set2)\n",
    "\n",
    "test_auc_set2 = roc_auc_score(y_test, y_test_pred_set2)\n",
    "print('\\n Test Auc for set 2')\n",
    "print(test_auc_set2)\n",
    "\n",
    "\n",
    "\n",
    "#Finding FPR and TPR both on train and test\n",
    "train_fpr_set2, train_tpr_set2, train_threshold_set2 = roc_curve(y_train, y_train_pred_set2)\n",
    "test_fpr_set2, test_tpr_set2, test_threshold_set2 = roc_curve(y_test, y_test_pred_set2)\n",
    "\n",
    "\n",
    "#Plotting AUC curve\n",
    "plot_AUC(train_fpr_set2, train_tpr_set2, test_fpr_set2, test_tpr_set2, train_auc_set2, test_auc_set2, \n",
    "         'AUC vs Alpha for Feature set 2')"
   ]
  },
  {
   "cell_type": "markdown",
   "metadata": {},
   "source": [
    "### Finding the best threshold and confusion matrix on train and test probability for feature set 2"
   ]
  },
  {
   "cell_type": "code",
   "execution_count": 29,
   "metadata": {},
   "outputs": [
    {
     "name": "stdout",
     "output_type": "stream",
     "text": [
      "The maximum value of tpr*(1-fpr) 0.2746601638733431 for threshold 1.0\n",
      "\n",
      "Train confusion matrix for set 2\n",
      "[[1862 1733]\n",
      " [8854 9996]]\n"
     ]
    },
    {
     "data": {
      "text/plain": [
       "<matplotlib.axes._subplots.AxesSubplot at 0x22751188198>"
      ]
     },
     "execution_count": 29,
     "metadata": {},
     "output_type": "execute_result"
    },
    {
     "data": {
      "image/png": "[encoded data removed]",
      "text/plain": [
       "<matplotlib.figure.Figure at 0x2275eea6358>"
      ]
     },
     "metadata": {},
     "output_type": "display_data"
    }
   ],
   "source": [
    "#Finding the best threshold\n",
    "best_t = find_best_threshold(train_threshold_set2, train_fpr_set2, train_tpr_set2)\n",
    "\n",
    "#Finding confusion matrix for train probability\n",
    "train_confusion_matrix = confusion_matrix(y_train, predict_with_best_t(y_train_pred_set2, best_t))\n",
    "print(\"\\nTrain confusion matrix for set 2\")\n",
    "print(train_confusion_matrix)\n",
    "\n",
    "#Seaborn Heatmap representaion of Train confusion matrix\n",
    "sns.heatmap(train_confusion_matrix, annot=True, fmt=\"d\")"
   ]
  },
  {
   "cell_type": "code",
   "execution_count": 30,
   "metadata": {},
   "outputs": [
    {
     "name": "stdout",
     "output_type": "stream",
     "text": [
      "\n",
      "Test confusion matrix for set 2\n",
      "\n"
     ]
    },
    {
     "data": {
      "text/plain": [
       "<matplotlib.axes._subplots.AxesSubplot at 0x22759b52c18>"
      ]
     },
     "execution_count": 30,
     "metadata": {},
     "output_type": "execute_result"
    },
    {
     "data": {
      "image/png": "[encoded data removed]",
      "text/plain": [
       "<matplotlib.figure.Figure at 0x2275e62d898>"
      ]
     },
     "metadata": {},
     "output_type": "display_data"
    }
   ],
   "source": [
    "#Finding confusion matrix for test probability\n",
    "test_confusion_matrix = confusion_matrix(y_test, predict_with_best_t(y_test_pred_set2, best_t))\n",
    "print(\"\\nTest confusion matrix for set 2\")\n",
    "print()\n",
    "\n",
    "#Seaborn Heatmap representaion of Train confusion matrix\n",
    "sns.heatmap(test_confusion_matrix, annot=True, fmt=\"d\")"
   ]
  },
  {
   "cell_type": "markdown",
   "metadata": {},
   "source": [
    "### 4. Finding top 20 features from set 1"
   ]
  },
  {
   "cell_type": "code",
   "execution_count": 31,
   "metadata": {},
   "outputs": [],
   "source": [
    "list_of_features = lst_state_features + lst_prefix_features + lst_grade_features + lst_categories_features \\\n",
    "                    + lst_subcategories_features + ['teacher_number_of_previously_posted_projects'] + ['price'] \\\n",
    "                    + lst_BOW_features"
   ]
  },
  {
   "cell_type": "code",
   "execution_count": 32,
   "metadata": {},
   "outputs": [],
   "source": [
    "log_prob = classifierNB_set1.feature_log_prob_[0]\n",
    "\n",
    "#Collecting top 20 absolute values of features from log_prob\n",
    "#top_20_log_prob = sorted([abs(x) for x in log_prob], reverse=True)[:20]\n",
    "\n",
    "#Collecting indices of top 20 features\n",
    "#indices = [idx for idx, prob in enumerate(log_prob)  if abs(prob) in top_20_log_prob]\n",
    "\n",
    "indices = np.array(log_prob).argsort()[:20]\n",
    "\n",
    "#print(indices)"
   ]
  },
  {
   "cell_type": "code",
   "execution_count": 33,
   "metadata": {},
   "outputs": [
    {
     "name": "stdout",
     "output_type": "stream",
     "text": [
      "Top 20 features using absolute values of feature_log_prob_ from feature Set 1 \n",
      "\n",
      "['dr' 'nd' 'reading grade' 'care_hunger' 'care_hunger' 'graphing'\n",
      " 'reading grade level' 'vt' 'warmth' 'the wobble' 'wy' 'warmth' 'sd'\n",
      " 'day ready learn' 'color printer' 'stools allow' 'wobble cushions'\n",
      " 'day class' 'ri' 'responses']\n"
     ]
    }
   ],
   "source": [
    "print('Top 20 features using absolute values of feature_log_prob_ from feature Set 1 \\n')\n",
    "print(np.array(list_of_features)[indices])"
   ]
  },
  {
   "cell_type": "markdown",
   "metadata": {},
   "source": [
    "### 5. Summarized Result"
   ]
  },
  {
   "cell_type": "code",
   "execution_count": 34,
   "metadata": {},
   "outputs": [],
   "source": [
    "#present data in table python : http://zetcode.com/python/prettytable/\n",
    "\n",
    "from prettytable import PrettyTable\n",
    "\n",
    "x = PrettyTable()\n",
    "\n",
    "x.field_names = [\"Vectorizer\", \"Model\", \"Hyper parameter\", \"AUC\"]\n",
    "\n",
    "x.add_row([\"BOW\", 'Naive Bayes', best_alpha_set1, test_auc_set1])\n",
    "x.add_row([\"TFIDF\", 'Naive Bayes', best_alpha_set2, test_auc_set2])"
   ]
  },
  {
   "cell_type": "code",
   "execution_count": 35,
   "metadata": {},
   "outputs": [
    {
     "name": "stdout",
     "output_type": "stream",
     "text": [
      "+------------+-------------+-----------------+--------------------+\n",
      "| Vectorizer |    Model    | Hyper parameter |        AUC         |\n",
      "+------------+-------------+-----------------+--------------------+\n",
      "|    BOW     | Naive Bayes |       100       | 0.618421856203655  |\n",
      "|   TFIDF    | Naive Bayes |       100       | 0.5272028367319046 |\n",
      "+------------+-------------+-----------------+--------------------+\n"
     ]
    }
   ],
   "source": [
    "print(x)"
   ]
  },
  {
   "cell_type": "code",
   "execution_count": 36,
   "metadata": {},
   "outputs": [],
   "source": [
    "#Please give the feedback"
   ]
  },
  {
   "cell_type": "code",
   "execution_count": null,
   "metadata": {},
   "outputs": [],
   "source": []
  }
 ],
 "metadata": {
  "kernelspec": {
   "display_name": "Python 3",
   "language": "python",
   "name": "python3"
  },
  "language_info": {
   "codemirror_mode": {
    "name": "ipython",
    "version": 3
   },
   "file_extension": ".py",
   "mimetype": "text/x-python",
   "name": "python",
   "nbconvert_exporter": "python",
   "pygments_lexer": "ipython3",
   "version": "3.6.4"
  }
 },
 "nbformat": 4,
 "nbformat_minor": 2
}
